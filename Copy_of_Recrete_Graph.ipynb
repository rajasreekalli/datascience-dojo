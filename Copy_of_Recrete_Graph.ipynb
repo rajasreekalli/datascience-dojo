{
  "nbformat": 4,
  "nbformat_minor": 0,
  "metadata": {
    "colab": {
      "name": "Copy of Recrete Graph.ipynb",
      "provenance": [],
      "mount_file_id": "15T4BPl_cqWW58024nf7K9v1fN2rqayMa",
      "authorship_tag": "ABX9TyPLBBVCbmEbRdBk8rU5iivZ",
      "include_colab_link": true
    },
    "kernelspec": {
      "name": "python3",
      "display_name": "Python 3"
    },
    "language_info": {
      "name": "python"
    }
  },
  "cells": [
    {
      "cell_type": "markdown",
      "metadata": {
        "id": "view-in-github",
        "colab_type": "text"
      },
      "source": [
        "<a href=\"https://colab.research.google.com/github/rajasreekalli/datascience-dojo/blob/main/Copy_of_Recrete_Graph.ipynb\" target=\"_parent\"><img src=\"https://colab.research.google.com/assets/colab-badge.svg\" alt=\"Open In Colab\"/></a>"
      ]
    },
    {
      "cell_type": "code",
      "metadata": {
        "id": "PKoqMcgVZmkH"
      },
      "source": [
        "import pandas as pd\n",
        "import matplotlib.pyplot as plt"
      ],
      "execution_count": null,
      "outputs": []
    },
    {
      "cell_type": "code",
      "metadata": {
        "colab": {
          "base_uri": "https://localhost:8080/",
          "height": 419
        },
        "id": "knsT7Pq2Z7wK",
        "outputId": "3b0daa58-1d3b-4698-9e7e-8f6dbcaebb5a"
      },
      "source": [
        "filename = '/content/drive/MyDrive/mortgages.csv'\n",
        "df = pd.read_csv('/content/drive/MyDrive/mortgages.csv')\n",
        "df"
      ],
      "execution_count": null,
      "outputs": [
        {
          "output_type": "execute_result",
          "data": {
            "text/html": [
              "<div>\n",
              "<style scoped>\n",
              "    .dataframe tbody tr th:only-of-type {\n",
              "        vertical-align: middle;\n",
              "    }\n",
              "\n",
              "    .dataframe tbody tr th {\n",
              "        vertical-align: top;\n",
              "    }\n",
              "\n",
              "    .dataframe thead th {\n",
              "        text-align: right;\n",
              "    }\n",
              "</style>\n",
              "<table border=\"1\" class=\"dataframe\">\n",
              "  <thead>\n",
              "    <tr style=\"text-align: right;\">\n",
              "      <th></th>\n",
              "      <th>Month</th>\n",
              "      <th>Starting Balance</th>\n",
              "      <th>Repayment</th>\n",
              "      <th>Interest Paid</th>\n",
              "      <th>Principal Paid</th>\n",
              "      <th>New Balance</th>\n",
              "      <th>Mortgage Name</th>\n",
              "      <th>Interest Rate</th>\n",
              "    </tr>\n",
              "  </thead>\n",
              "  <tbody>\n",
              "    <tr>\n",
              "      <th>0</th>\n",
              "      <td>1</td>\n",
              "      <td>400000.00</td>\n",
              "      <td>1686.42</td>\n",
              "      <td>1000.00</td>\n",
              "      <td>686.42</td>\n",
              "      <td>399313.58</td>\n",
              "      <td>30 Year</td>\n",
              "      <td>0.03</td>\n",
              "    </tr>\n",
              "    <tr>\n",
              "      <th>1</th>\n",
              "      <td>2</td>\n",
              "      <td>399313.58</td>\n",
              "      <td>1686.42</td>\n",
              "      <td>998.28</td>\n",
              "      <td>688.14</td>\n",
              "      <td>398625.44</td>\n",
              "      <td>30 Year</td>\n",
              "      <td>0.03</td>\n",
              "    </tr>\n",
              "    <tr>\n",
              "      <th>2</th>\n",
              "      <td>3</td>\n",
              "      <td>398625.44</td>\n",
              "      <td>1686.42</td>\n",
              "      <td>996.56</td>\n",
              "      <td>689.86</td>\n",
              "      <td>397935.58</td>\n",
              "      <td>30 Year</td>\n",
              "      <td>0.03</td>\n",
              "    </tr>\n",
              "    <tr>\n",
              "      <th>3</th>\n",
              "      <td>4</td>\n",
              "      <td>397935.58</td>\n",
              "      <td>1686.42</td>\n",
              "      <td>994.83</td>\n",
              "      <td>691.59</td>\n",
              "      <td>397243.99</td>\n",
              "      <td>30 Year</td>\n",
              "      <td>0.03</td>\n",
              "    </tr>\n",
              "    <tr>\n",
              "      <th>4</th>\n",
              "      <td>5</td>\n",
              "      <td>397243.99</td>\n",
              "      <td>1686.42</td>\n",
              "      <td>993.10</td>\n",
              "      <td>693.32</td>\n",
              "      <td>396550.67</td>\n",
              "      <td>30 Year</td>\n",
              "      <td>0.03</td>\n",
              "    </tr>\n",
              "    <tr>\n",
              "      <th>...</th>\n",
              "      <td>...</td>\n",
              "      <td>...</td>\n",
              "      <td>...</td>\n",
              "      <td>...</td>\n",
              "      <td>...</td>\n",
              "      <td>...</td>\n",
              "      <td>...</td>\n",
              "      <td>...</td>\n",
              "    </tr>\n",
              "    <tr>\n",
              "      <th>1075</th>\n",
              "      <td>176</td>\n",
              "      <td>15619.91</td>\n",
              "      <td>3163.17</td>\n",
              "      <td>65.08</td>\n",
              "      <td>3098.09</td>\n",
              "      <td>12521.82</td>\n",
              "      <td>15 Year</td>\n",
              "      <td>0.05</td>\n",
              "    </tr>\n",
              "    <tr>\n",
              "      <th>1076</th>\n",
              "      <td>177</td>\n",
              "      <td>12521.82</td>\n",
              "      <td>3163.17</td>\n",
              "      <td>52.17</td>\n",
              "      <td>3111.00</td>\n",
              "      <td>9410.82</td>\n",
              "      <td>15 Year</td>\n",
              "      <td>0.05</td>\n",
              "    </tr>\n",
              "    <tr>\n",
              "      <th>1077</th>\n",
              "      <td>178</td>\n",
              "      <td>9410.82</td>\n",
              "      <td>3163.17</td>\n",
              "      <td>39.21</td>\n",
              "      <td>3123.96</td>\n",
              "      <td>6286.86</td>\n",
              "      <td>15 Year</td>\n",
              "      <td>0.05</td>\n",
              "    </tr>\n",
              "    <tr>\n",
              "      <th>1078</th>\n",
              "      <td>179</td>\n",
              "      <td>6286.86</td>\n",
              "      <td>3163.17</td>\n",
              "      <td>26.19</td>\n",
              "      <td>3136.98</td>\n",
              "      <td>3149.88</td>\n",
              "      <td>15 Year</td>\n",
              "      <td>0.05</td>\n",
              "    </tr>\n",
              "    <tr>\n",
              "      <th>1079</th>\n",
              "      <td>180</td>\n",
              "      <td>3149.88</td>\n",
              "      <td>3163.17</td>\n",
              "      <td>13.12</td>\n",
              "      <td>3150.05</td>\n",
              "      <td>-0.17</td>\n",
              "      <td>15 Year</td>\n",
              "      <td>0.05</td>\n",
              "    </tr>\n",
              "  </tbody>\n",
              "</table>\n",
              "<p>1080 rows × 8 columns</p>\n",
              "</div>"
            ],
            "text/plain": [
              "      Month  Starting Balance  ...  Mortgage Name  Interest Rate\n",
              "0         1         400000.00  ...        30 Year           0.03\n",
              "1         2         399313.58  ...        30 Year           0.03\n",
              "2         3         398625.44  ...        30 Year           0.03\n",
              "3         4         397935.58  ...        30 Year           0.03\n",
              "4         5         397243.99  ...        30 Year           0.03\n",
              "...     ...               ...  ...            ...            ...\n",
              "1075    176          15619.91  ...        15 Year           0.05\n",
              "1076    177          12521.82  ...        15 Year           0.05\n",
              "1077    178           9410.82  ...        15 Year           0.05\n",
              "1078    179           6286.86  ...        15 Year           0.05\n",
              "1079    180           3149.88  ...        15 Year           0.05\n",
              "\n",
              "[1080 rows x 8 columns]"
            ]
          },
          "metadata": {},
          "execution_count": 132
        }
      ]
    },
    {
      "cell_type": "code",
      "metadata": {
        "colab": {
          "base_uri": "https://localhost:8080/"
        },
        "id": "WKLCjOy4aT5w",
        "outputId": "5541c85f-4c21-4bed-c756-3669fc2c6612"
      },
      "source": [
        "# 1. Create a filter so the Mortgage Name is '30 Year'.  Use the len() to find how many rows correspond to 30 years.\n",
        "mortgage_filter = df['Mortgage Name']=='30 Year'\n",
        "mortgage_filter.value_counts()"
      ],
      "execution_count": null,
      "outputs": [
        {
          "output_type": "execute_result",
          "data": {
            "text/plain": [
              "True     720\n",
              "False    360\n",
              "Name: Mortgage Name, dtype: int64"
            ]
          },
          "metadata": {},
          "execution_count": 133
        }
      ]
    },
    {
      "cell_type": "code",
      "metadata": {
        "colab": {
          "base_uri": "https://localhost:8080/"
        },
        "id": "4nuZU3V1ndyp",
        "outputId": "5914ca93-87fd-49c2-f451-8dab9e7d4c9a"
      },
      "source": [
        "len(df[mortgage_filter])"
      ],
      "execution_count": null,
      "outputs": [
        {
          "output_type": "execute_result",
          "data": {
            "text/plain": [
              "720"
            ]
          },
          "metadata": {},
          "execution_count": 134
        }
      ]
    },
    {
      "cell_type": "code",
      "metadata": {
        "colab": {
          "base_uri": "https://localhost:8080/"
        },
        "id": "pd-sq9febIEY",
        "outputId": "1fd0a23a-98b3-49e7-f288-c4e8a752a4da"
      },
      "source": [
        "# 2. Create a filter for an interest rate of 3% (notice how it is written in the data!).  \n",
        "df['Interest Rate']==0.03\n",
        "interest_filter = df['Interest Rate']==0.03\n",
        "df['Interest Rate'].value_counts()"
      ],
      "execution_count": null,
      "outputs": [
        {
          "output_type": "execute_result",
          "data": {
            "text/plain": [
              "0.05    540\n",
              "0.03    540\n",
              "Name: Interest Rate, dtype: int64"
            ]
          },
          "metadata": {},
          "execution_count": 135
        }
      ]
    },
    {
      "cell_type": "code",
      "metadata": {
        "colab": {
          "base_uri": "https://localhost:8080/"
        },
        "id": "vBvLArsRcT4f",
        "outputId": "15e92cac-bdad-413b-dd71-094ea8cb699d"
      },
      "source": [
        "# 3. Define a new dataframe based on both the year and the interest filters you have created. \n",
        "intrest_fil = df.loc[interest_filter, :]\n",
        "print(intrest_fil)"
      ],
      "execution_count": null,
      "outputs": [
        {
          "output_type": "stream",
          "name": "stdout",
          "text": [
            "     Month  Starting Balance  ...  Mortgage Name  Interest Rate\n",
            "0        1         400000.00  ...        30 Year           0.03\n",
            "1        2         399313.58  ...        30 Year           0.03\n",
            "2        3         398625.44  ...        30 Year           0.03\n",
            "3        4         397935.58  ...        30 Year           0.03\n",
            "4        5         397243.99  ...        30 Year           0.03\n",
            "..     ...               ...  ...            ...            ...\n",
            "895    176          13706.74  ...        15 Year           0.03\n",
            "896    177          10978.67  ...        15 Year           0.03\n",
            "897    178           8243.78  ...        15 Year           0.03\n",
            "898    179           5502.05  ...        15 Year           0.03\n",
            "899    180           2753.47  ...        15 Year           0.03\n",
            "\n",
            "[540 rows x 8 columns]\n"
          ]
        }
      ]
    },
    {
      "cell_type": "code",
      "metadata": {
        "colab": {
          "base_uri": "https://localhost:8080/"
        },
        "id": "7foJMhXuf7Qb",
        "outputId": "3fa0a0fe-d781-43be-b36d-2d754354c3c2"
      },
      "source": [
        "# 4. We have a choice for the 5% interest rate.  We can just create another filter where df.['Interest Rate'] == 0.05 \n",
        "df['Interest Rate']==0.05\n"
      ],
      "execution_count": null,
      "outputs": [
        {
          "output_type": "execute_result",
          "data": {
            "text/plain": [
              "0       False\n",
              "1       False\n",
              "2       False\n",
              "3       False\n",
              "4       False\n",
              "        ...  \n",
              "1075     True\n",
              "1076     True\n",
              "1077     True\n",
              "1078     True\n",
              "1079     True\n",
              "Name: Interest Rate, Length: 1080, dtype: bool"
            ]
          },
          "metadata": {},
          "execution_count": 137
        }
      ]
    },
    {
      "cell_type": "code",
      "metadata": {
        "colab": {
          "base_uri": "https://localhost:8080/",
          "height": 204
        },
        "id": "EqilMl6LjJ3M",
        "outputId": "66570ed7-0ad6-4750-9c53-4a987ea1a581"
      },
      "source": [
        "# 4. Since we want to graph the cumulative sum of the interest paid, you can use the function .cumsum().  What are the first three values in the output for the cumulative sum of the 3% rate?\n",
        "df['Interest Rate']==0.03\n",
        "df.cumsum().head()"
      ],
      "execution_count": null,
      "outputs": [
        {
          "output_type": "execute_result",
          "data": {
            "text/html": [
              "<div>\n",
              "<style scoped>\n",
              "    .dataframe tbody tr th:only-of-type {\n",
              "        vertical-align: middle;\n",
              "    }\n",
              "\n",
              "    .dataframe tbody tr th {\n",
              "        vertical-align: top;\n",
              "    }\n",
              "\n",
              "    .dataframe thead th {\n",
              "        text-align: right;\n",
              "    }\n",
              "</style>\n",
              "<table border=\"1\" class=\"dataframe\">\n",
              "  <thead>\n",
              "    <tr style=\"text-align: right;\">\n",
              "      <th></th>\n",
              "      <th>Month</th>\n",
              "      <th>Starting Balance</th>\n",
              "      <th>Repayment</th>\n",
              "      <th>Interest Paid</th>\n",
              "      <th>Principal Paid</th>\n",
              "      <th>New Balance</th>\n",
              "      <th>Mortgage Name</th>\n",
              "      <th>Interest Rate</th>\n",
              "    </tr>\n",
              "  </thead>\n",
              "  <tbody>\n",
              "    <tr>\n",
              "      <th>0</th>\n",
              "      <td>1</td>\n",
              "      <td>400000.00</td>\n",
              "      <td>1686.42</td>\n",
              "      <td>1000.00</td>\n",
              "      <td>686.42</td>\n",
              "      <td>399313.58</td>\n",
              "      <td>30 Year</td>\n",
              "      <td>0.03</td>\n",
              "    </tr>\n",
              "    <tr>\n",
              "      <th>1</th>\n",
              "      <td>3</td>\n",
              "      <td>799313.58</td>\n",
              "      <td>3372.84</td>\n",
              "      <td>1998.28</td>\n",
              "      <td>1374.56</td>\n",
              "      <td>797939.02</td>\n",
              "      <td>30 Year30 Year</td>\n",
              "      <td>0.06</td>\n",
              "    </tr>\n",
              "    <tr>\n",
              "      <th>2</th>\n",
              "      <td>6</td>\n",
              "      <td>1197939.02</td>\n",
              "      <td>5059.26</td>\n",
              "      <td>2994.84</td>\n",
              "      <td>2064.42</td>\n",
              "      <td>1195874.60</td>\n",
              "      <td>30 Year30 Year30 Year</td>\n",
              "      <td>0.09</td>\n",
              "    </tr>\n",
              "    <tr>\n",
              "      <th>3</th>\n",
              "      <td>10</td>\n",
              "      <td>1595874.60</td>\n",
              "      <td>6745.68</td>\n",
              "      <td>3989.67</td>\n",
              "      <td>2756.01</td>\n",
              "      <td>1593118.59</td>\n",
              "      <td>30 Year30 Year30 Year30 Year</td>\n",
              "      <td>0.12</td>\n",
              "    </tr>\n",
              "    <tr>\n",
              "      <th>4</th>\n",
              "      <td>15</td>\n",
              "      <td>1993118.59</td>\n",
              "      <td>8432.10</td>\n",
              "      <td>4982.77</td>\n",
              "      <td>3449.33</td>\n",
              "      <td>1989669.26</td>\n",
              "      <td>30 Year30 Year30 Year30 Year30 Year</td>\n",
              "      <td>0.15</td>\n",
              "    </tr>\n",
              "  </tbody>\n",
              "</table>\n",
              "</div>"
            ],
            "text/plain": [
              "   Month  Starting Balance  ...                        Mortgage Name  Interest Rate\n",
              "0      1         400000.00  ...                              30 Year           0.03\n",
              "1      3         799313.58  ...                       30 Year30 Year           0.06\n",
              "2      6        1197939.02  ...                30 Year30 Year30 Year           0.09\n",
              "3     10        1595874.60  ...         30 Year30 Year30 Year30 Year           0.12\n",
              "4     15        1993118.59  ...  30 Year30 Year30 Year30 Year30 Year           0.15\n",
              "\n",
              "[5 rows x 8 columns]"
            ]
          },
          "metadata": {},
          "execution_count": 138
        }
      ]
    },
    {
      "cell_type": "code",
      "metadata": {
        "colab": {
          "base_uri": "https://localhost:8080/",
          "height": 204
        },
        "id": "BWZMpcLPgsKE",
        "outputId": "34484bb7-f0af-48e2-8f4c-c5a33737b802"
      },
      "source": [
        "# 5. Use plt.plot(x, y, c=color) to plot the black line (5%).  We want the x values to be the ['Month'] and the y values to be the cumulative sum of the Interest Paid.  You can use the code from the previous question to define your y values within the plt.plot() function!  Hint: for black, c = 'k'\n",
        "\n",
        "df['Interest Rate']==0.05\n",
        "df.cumsum().head()\n"
      ],
      "execution_count": null,
      "outputs": [
        {
          "output_type": "execute_result",
          "data": {
            "text/html": [
              "<div>\n",
              "<style scoped>\n",
              "    .dataframe tbody tr th:only-of-type {\n",
              "        vertical-align: middle;\n",
              "    }\n",
              "\n",
              "    .dataframe tbody tr th {\n",
              "        vertical-align: top;\n",
              "    }\n",
              "\n",
              "    .dataframe thead th {\n",
              "        text-align: right;\n",
              "    }\n",
              "</style>\n",
              "<table border=\"1\" class=\"dataframe\">\n",
              "  <thead>\n",
              "    <tr style=\"text-align: right;\">\n",
              "      <th></th>\n",
              "      <th>Month</th>\n",
              "      <th>Starting Balance</th>\n",
              "      <th>Repayment</th>\n",
              "      <th>Interest Paid</th>\n",
              "      <th>Principal Paid</th>\n",
              "      <th>New Balance</th>\n",
              "      <th>Mortgage Name</th>\n",
              "      <th>Interest Rate</th>\n",
              "    </tr>\n",
              "  </thead>\n",
              "  <tbody>\n",
              "    <tr>\n",
              "      <th>0</th>\n",
              "      <td>1</td>\n",
              "      <td>400000.00</td>\n",
              "      <td>1686.42</td>\n",
              "      <td>1000.00</td>\n",
              "      <td>686.42</td>\n",
              "      <td>399313.58</td>\n",
              "      <td>30 Year</td>\n",
              "      <td>0.03</td>\n",
              "    </tr>\n",
              "    <tr>\n",
              "      <th>1</th>\n",
              "      <td>3</td>\n",
              "      <td>799313.58</td>\n",
              "      <td>3372.84</td>\n",
              "      <td>1998.28</td>\n",
              "      <td>1374.56</td>\n",
              "      <td>797939.02</td>\n",
              "      <td>30 Year30 Year</td>\n",
              "      <td>0.06</td>\n",
              "    </tr>\n",
              "    <tr>\n",
              "      <th>2</th>\n",
              "      <td>6</td>\n",
              "      <td>1197939.02</td>\n",
              "      <td>5059.26</td>\n",
              "      <td>2994.84</td>\n",
              "      <td>2064.42</td>\n",
              "      <td>1195874.60</td>\n",
              "      <td>30 Year30 Year30 Year</td>\n",
              "      <td>0.09</td>\n",
              "    </tr>\n",
              "    <tr>\n",
              "      <th>3</th>\n",
              "      <td>10</td>\n",
              "      <td>1595874.60</td>\n",
              "      <td>6745.68</td>\n",
              "      <td>3989.67</td>\n",
              "      <td>2756.01</td>\n",
              "      <td>1593118.59</td>\n",
              "      <td>30 Year30 Year30 Year30 Year</td>\n",
              "      <td>0.12</td>\n",
              "    </tr>\n",
              "    <tr>\n",
              "      <th>4</th>\n",
              "      <td>15</td>\n",
              "      <td>1993118.59</td>\n",
              "      <td>8432.10</td>\n",
              "      <td>4982.77</td>\n",
              "      <td>3449.33</td>\n",
              "      <td>1989669.26</td>\n",
              "      <td>30 Year30 Year30 Year30 Year30 Year</td>\n",
              "      <td>0.15</td>\n",
              "    </tr>\n",
              "  </tbody>\n",
              "</table>\n",
              "</div>"
            ],
            "text/plain": [
              "   Month  Starting Balance  ...                        Mortgage Name  Interest Rate\n",
              "0      1         400000.00  ...                              30 Year           0.03\n",
              "1      3         799313.58  ...                       30 Year30 Year           0.06\n",
              "2      6        1197939.02  ...                30 Year30 Year30 Year           0.09\n",
              "3     10        1595874.60  ...         30 Year30 Year30 Year30 Year           0.12\n",
              "4     15        1993118.59  ...  30 Year30 Year30 Year30 Year30 Year           0.15\n",
              "\n",
              "[5 rows x 8 columns]"
            ]
          },
          "metadata": {},
          "execution_count": 143
        }
      ]
    },
    {
      "cell_type": "code",
      "metadata": {
        "colab": {
          "base_uri": "https://localhost:8080/",
          "height": 265
        },
        "id": "3GYzyUaYVmtF",
        "outputId": "d65bbe27-ca76-433a-c22b-0f995394365e"
      },
      "source": [
        "plt.plot([1, 2, 3, 4, 5], [0.05, 0.10, 0.15, 0.20, 0.25], c= 'k');\n"
      ],
      "execution_count": null,
      "outputs": [
        {
          "output_type": "display_data",
          "data": {
            "image/png": "[encoded data removed]",
            "text/plain": [
              "<Figure size 432x288 with 1 Axes>"
            ]
          },
          "metadata": {
            "needs_background": "light"
          }
        }
      ]
    },
    {
      "cell_type": "code",
      "metadata": {
        "colab": {
          "base_uri": "https://localhost:8080/",
          "height": 265
        },
        "id": "sjEAIPhQWGVI",
        "outputId": "d134d282-961a-45e8-9b77-42950561a081"
      },
      "source": [
        "plt.plot([1, 2, 3, 4, 5], [0.03, 0.06, 0.09, 0.12, 0.15], c ='k');"
      ],
      "execution_count": null,
      "outputs": [
        {
          "output_type": "display_data",
          "data": {
            "image/png": "[encoded data removed]",
            "text/plain": [
              "<Figure size 432x288 with 1 Axes>"
            ]
          },
          "metadata": {
            "needs_background": "light"
          }
        }
      ]
    },
    {
      "cell_type": "code",
      "metadata": {
        "colab": {
          "base_uri": "https://localhost:8080/",
          "height": 265
        },
        "id": "uw6NuN5qaKtk",
        "outputId": "810ddfe4-30ea-46ea-fee2-c1cc5ad3bd0c"
      },
      "source": [
        "# 6. To get both lines on the same graph, just put two plt.plot() functions one after the other in same code block and run it!\n",
        "plt.plot([1, 2, 3, 4, 5], [0.05, 0.10, 0.15, 0.20, 0.25], c= 'b');\n",
        "plt.plot([1, 2, 3, 4, 5], [0.03, 0.06, 0.09, 0.12, 0.15], c ='b');"
      ],
      "execution_count": null,
      "outputs": [
        {
          "output_type": "display_data",
          "data": {
            "image/png": "[encoded data removed]",
            "text/plain": [
              "<Figure size 432x288 with 1 Axes>"
            ]
          },
          "metadata": {
            "needs_background": "light"
          }
        }
      ]
    },
    {
      "cell_type": "code",
      "metadata": {
        "id": "GgGhee-ialQW"
      },
      "source": [
        ""
      ],
      "execution_count": null,
      "outputs": []
    }
  ]
}