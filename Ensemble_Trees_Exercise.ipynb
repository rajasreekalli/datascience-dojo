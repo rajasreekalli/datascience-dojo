{
  "nbformat": 4,
  "nbformat_minor": 0,
  "metadata": {
    "colab": {
      "name": "Ensemble Trees Exercise.ipynb",
      "provenance": [],
      "mount_file_id": "1YpTfx4JkfSPxngZERuOXpI6G1Y5-jOAJ",
      "authorship_tag": "ABX9TyNij/UQRxlpu4ebaLnGVcwI",
      "include_colab_link": true
    },
    "kernelspec": {
      "name": "python3",
      "display_name": "Python 3"
    },
    "language_info": {
      "name": "python"
    }
  },
  "cells": [
    {
      "cell_type": "markdown",
      "metadata": {
        "id": "view-in-github",
        "colab_type": "text"
      },
      "source": [
        "<a href=\"https://colab.research.google.com/github/rajasreekalli/datascience-dojo/blob/main/Ensemble_Trees_Exercise.ipynb\" target=\"_parent\"><img src=\"https://colab.research.google.com/assets/colab-badge.svg\" alt=\"Open In Colab\"/></a>"
      ]
    },
    {
      "cell_type": "code",
      "metadata": {
        "id": "SkK9SrFY800p"
      },
      "source": [
        "import pandas as pd\n",
        "import matplotlib.pyplot as plt\n",
        "from sklearn.model_selection import train_test_split"
      ],
      "execution_count": 44,
      "outputs": []
    },
    {
      "cell_type": "code",
      "metadata": {
        "colab": {
          "base_uri": "https://localhost:8080/",
          "height": 439
        },
        "id": "trgeB5rt9Tb4",
        "outputId": "32e9bb15-27dc-47dd-edc0-2a7ff5f4cab6"
      },
      "source": [
        "df = pd.read_csv('/content/drive/MyDrive/kc_house_data.csv')\n",
        "df"
      ],
      "execution_count": 45,
      "outputs": [
        {
          "output_type": "execute_result",
          "data": {
            "text/html": [
              "<div>\n",
              "<style scoped>\n",
              "    .dataframe tbody tr th:only-of-type {\n",
              "        vertical-align: middle;\n",
              "    }\n",
              "\n",
              "    .dataframe tbody tr th {\n",
              "        vertical-align: top;\n",
              "    }\n",
              "\n",
              "    .dataframe thead th {\n",
              "        text-align: right;\n",
              "    }\n",
              "</style>\n",
              "<table border=\"1\" class=\"dataframe\">\n",
              "  <thead>\n",
              "    <tr style=\"text-align: right;\">\n",
              "      <th></th>\n",
              "      <th>id</th>\n",
              "      <th>date</th>\n",
              "      <th>price</th>\n",
              "      <th>bedrooms</th>\n",
              "      <th>bathrooms</th>\n",
              "      <th>sqft_living</th>\n",
              "      <th>sqft_lot</th>\n",
              "      <th>floors</th>\n",
              "      <th>waterfront</th>\n",
              "      <th>view</th>\n",
              "      <th>condition</th>\n",
              "      <th>grade</th>\n",
              "      <th>sqft_above</th>\n",
              "      <th>sqft_basement</th>\n",
              "      <th>yr_built</th>\n",
              "      <th>yr_renovated</th>\n",
              "      <th>zipcode</th>\n",
              "      <th>lat</th>\n",
              "      <th>long</th>\n",
              "      <th>sqft_living15</th>\n",
              "      <th>sqft_lot15</th>\n",
              "    </tr>\n",
              "  </thead>\n",
              "  <tbody>\n",
              "    <tr>\n",
              "      <th>0</th>\n",
              "      <td>7129300520</td>\n",
              "      <td>20141013T000000</td>\n",
              "      <td>221900.0</td>\n",
              "      <td>3</td>\n",
              "      <td>1.00</td>\n",
              "      <td>1180</td>\n",
              "      <td>5650</td>\n",
              "      <td>1.0</td>\n",
              "      <td>0</td>\n",
              "      <td>0</td>\n",
              "      <td>3</td>\n",
              "      <td>7</td>\n",
              "      <td>1180</td>\n",
              "      <td>0</td>\n",
              "      <td>1955</td>\n",
              "      <td>0</td>\n",
              "      <td>98178</td>\n",
              "      <td>47.5112</td>\n",
              "      <td>-122.257</td>\n",
              "      <td>1340</td>\n",
              "      <td>5650</td>\n",
              "    </tr>\n",
              "    <tr>\n",
              "      <th>1</th>\n",
              "      <td>6414100192</td>\n",
              "      <td>20141209T000000</td>\n",
              "      <td>538000.0</td>\n",
              "      <td>3</td>\n",
              "      <td>2.25</td>\n",
              "      <td>2570</td>\n",
              "      <td>7242</td>\n",
              "      <td>2.0</td>\n",
              "      <td>0</td>\n",
              "      <td>0</td>\n",
              "      <td>3</td>\n",
              "      <td>7</td>\n",
              "      <td>2170</td>\n",
              "      <td>400</td>\n",
              "      <td>1951</td>\n",
              "      <td>1991</td>\n",
              "      <td>98125</td>\n",
              "      <td>47.7210</td>\n",
              "      <td>-122.319</td>\n",
              "      <td>1690</td>\n",
              "      <td>7639</td>\n",
              "    </tr>\n",
              "    <tr>\n",
              "      <th>2</th>\n",
              "      <td>5631500400</td>\n",
              "      <td>20150225T000000</td>\n",
              "      <td>180000.0</td>\n",
              "      <td>2</td>\n",
              "      <td>1.00</td>\n",
              "      <td>770</td>\n",
              "      <td>10000</td>\n",
              "      <td>1.0</td>\n",
              "      <td>0</td>\n",
              "      <td>0</td>\n",
              "      <td>3</td>\n",
              "      <td>6</td>\n",
              "      <td>770</td>\n",
              "      <td>0</td>\n",
              "      <td>1933</td>\n",
              "      <td>0</td>\n",
              "      <td>98028</td>\n",
              "      <td>47.7379</td>\n",
              "      <td>-122.233</td>\n",
              "      <td>2720</td>\n",
              "      <td>8062</td>\n",
              "    </tr>\n",
              "    <tr>\n",
              "      <th>3</th>\n",
              "      <td>2487200875</td>\n",
              "      <td>20141209T000000</td>\n",
              "      <td>604000.0</td>\n",
              "      <td>4</td>\n",
              "      <td>3.00</td>\n",
              "      <td>1960</td>\n",
              "      <td>5000</td>\n",
              "      <td>1.0</td>\n",
              "      <td>0</td>\n",
              "      <td>0</td>\n",
              "      <td>5</td>\n",
              "      <td>7</td>\n",
              "      <td>1050</td>\n",
              "      <td>910</td>\n",
              "      <td>1965</td>\n",
              "      <td>0</td>\n",
              "      <td>98136</td>\n",
              "      <td>47.5208</td>\n",
              "      <td>-122.393</td>\n",
              "      <td>1360</td>\n",
              "      <td>5000</td>\n",
              "    </tr>\n",
              "    <tr>\n",
              "      <th>4</th>\n",
              "      <td>1954400510</td>\n",
              "      <td>20150218T000000</td>\n",
              "      <td>510000.0</td>\n",
              "      <td>3</td>\n",
              "      <td>2.00</td>\n",
              "      <td>1680</td>\n",
              "      <td>8080</td>\n",
              "      <td>1.0</td>\n",
              "      <td>0</td>\n",
              "      <td>0</td>\n",
              "      <td>3</td>\n",
              "      <td>8</td>\n",
              "      <td>1680</td>\n",
              "      <td>0</td>\n",
              "      <td>1987</td>\n",
              "      <td>0</td>\n",
              "      <td>98074</td>\n",
              "      <td>47.6168</td>\n",
              "      <td>-122.045</td>\n",
              "      <td>1800</td>\n",
              "      <td>7503</td>\n",
              "    </tr>\n",
              "    <tr>\n",
              "      <th>...</th>\n",
              "      <td>...</td>\n",
              "      <td>...</td>\n",
              "      <td>...</td>\n",
              "      <td>...</td>\n",
              "      <td>...</td>\n",
              "      <td>...</td>\n",
              "      <td>...</td>\n",
              "      <td>...</td>\n",
              "      <td>...</td>\n",
              "      <td>...</td>\n",
              "      <td>...</td>\n",
              "      <td>...</td>\n",
              "      <td>...</td>\n",
              "      <td>...</td>\n",
              "      <td>...</td>\n",
              "      <td>...</td>\n",
              "      <td>...</td>\n",
              "      <td>...</td>\n",
              "      <td>...</td>\n",
              "      <td>...</td>\n",
              "      <td>...</td>\n",
              "    </tr>\n",
              "    <tr>\n",
              "      <th>21608</th>\n",
              "      <td>263000018</td>\n",
              "      <td>20140521T000000</td>\n",
              "      <td>360000.0</td>\n",
              "      <td>3</td>\n",
              "      <td>2.50</td>\n",
              "      <td>1530</td>\n",
              "      <td>1131</td>\n",
              "      <td>3.0</td>\n",
              "      <td>0</td>\n",
              "      <td>0</td>\n",
              "      <td>3</td>\n",
              "      <td>8</td>\n",
              "      <td>1530</td>\n",
              "      <td>0</td>\n",
              "      <td>2009</td>\n",
              "      <td>0</td>\n",
              "      <td>98103</td>\n",
              "      <td>47.6993</td>\n",
              "      <td>-122.346</td>\n",
              "      <td>1530</td>\n",
              "      <td>1509</td>\n",
              "    </tr>\n",
              "    <tr>\n",
              "      <th>21609</th>\n",
              "      <td>6600060120</td>\n",
              "      <td>20150223T000000</td>\n",
              "      <td>400000.0</td>\n",
              "      <td>4</td>\n",
              "      <td>2.50</td>\n",
              "      <td>2310</td>\n",
              "      <td>5813</td>\n",
              "      <td>2.0</td>\n",
              "      <td>0</td>\n",
              "      <td>0</td>\n",
              "      <td>3</td>\n",
              "      <td>8</td>\n",
              "      <td>2310</td>\n",
              "      <td>0</td>\n",
              "      <td>2014</td>\n",
              "      <td>0</td>\n",
              "      <td>98146</td>\n",
              "      <td>47.5107</td>\n",
              "      <td>-122.362</td>\n",
              "      <td>1830</td>\n",
              "      <td>7200</td>\n",
              "    </tr>\n",
              "    <tr>\n",
              "      <th>21610</th>\n",
              "      <td>1523300141</td>\n",
              "      <td>20140623T000000</td>\n",
              "      <td>402101.0</td>\n",
              "      <td>2</td>\n",
              "      <td>0.75</td>\n",
              "      <td>1020</td>\n",
              "      <td>1350</td>\n",
              "      <td>2.0</td>\n",
              "      <td>0</td>\n",
              "      <td>0</td>\n",
              "      <td>3</td>\n",
              "      <td>7</td>\n",
              "      <td>1020</td>\n",
              "      <td>0</td>\n",
              "      <td>2009</td>\n",
              "      <td>0</td>\n",
              "      <td>98144</td>\n",
              "      <td>47.5944</td>\n",
              "      <td>-122.299</td>\n",
              "      <td>1020</td>\n",
              "      <td>2007</td>\n",
              "    </tr>\n",
              "    <tr>\n",
              "      <th>21611</th>\n",
              "      <td>291310100</td>\n",
              "      <td>20150116T000000</td>\n",
              "      <td>400000.0</td>\n",
              "      <td>3</td>\n",
              "      <td>2.50</td>\n",
              "      <td>1600</td>\n",
              "      <td>2388</td>\n",
              "      <td>2.0</td>\n",
              "      <td>0</td>\n",
              "      <td>0</td>\n",
              "      <td>3</td>\n",
              "      <td>8</td>\n",
              "      <td>1600</td>\n",
              "      <td>0</td>\n",
              "      <td>2004</td>\n",
              "      <td>0</td>\n",
              "      <td>98027</td>\n",
              "      <td>47.5345</td>\n",
              "      <td>-122.069</td>\n",
              "      <td>1410</td>\n",
              "      <td>1287</td>\n",
              "    </tr>\n",
              "    <tr>\n",
              "      <th>21612</th>\n",
              "      <td>1523300157</td>\n",
              "      <td>20141015T000000</td>\n",
              "      <td>325000.0</td>\n",
              "      <td>2</td>\n",
              "      <td>0.75</td>\n",
              "      <td>1020</td>\n",
              "      <td>1076</td>\n",
              "      <td>2.0</td>\n",
              "      <td>0</td>\n",
              "      <td>0</td>\n",
              "      <td>3</td>\n",
              "      <td>7</td>\n",
              "      <td>1020</td>\n",
              "      <td>0</td>\n",
              "      <td>2008</td>\n",
              "      <td>0</td>\n",
              "      <td>98144</td>\n",
              "      <td>47.5941</td>\n",
              "      <td>-122.299</td>\n",
              "      <td>1020</td>\n",
              "      <td>1357</td>\n",
              "    </tr>\n",
              "  </tbody>\n",
              "</table>\n",
              "<p>21613 rows × 21 columns</p>\n",
              "</div>"
            ],
            "text/plain": [
              "               id             date  ...  sqft_living15  sqft_lot15\n",
              "0      7129300520  20141013T000000  ...           1340        5650\n",
              "1      6414100192  20141209T000000  ...           1690        7639\n",
              "2      5631500400  20150225T000000  ...           2720        8062\n",
              "3      2487200875  20141209T000000  ...           1360        5000\n",
              "4      1954400510  20150218T000000  ...           1800        7503\n",
              "...           ...              ...  ...            ...         ...\n",
              "21608   263000018  20140521T000000  ...           1530        1509\n",
              "21609  6600060120  20150223T000000  ...           1830        7200\n",
              "21610  1523300141  20140623T000000  ...           1020        2007\n",
              "21611   291310100  20150116T000000  ...           1410        1287\n",
              "21612  1523300157  20141015T000000  ...           1020        1357\n",
              "\n",
              "[21613 rows x 21 columns]"
            ]
          },
          "metadata": {},
          "execution_count": 45
        }
      ]
    },
    {
      "cell_type": "code",
      "metadata": {
        "colab": {
          "base_uri": "https://localhost:8080/"
        },
        "id": "McKdLvzE-BNP",
        "outputId": "44f91ce3-f085-46c2-b147-9bb697a29c18"
      },
      "source": [
        "types = df.dtypes\n",
        "print(types)"
      ],
      "execution_count": 46,
      "outputs": [
        {
          "output_type": "stream",
          "name": "stdout",
          "text": [
            "id                 int64\n",
            "date              object\n",
            "price            float64\n",
            "bedrooms           int64\n",
            "bathrooms        float64\n",
            "sqft_living        int64\n",
            "sqft_lot           int64\n",
            "floors           float64\n",
            "waterfront         int64\n",
            "view               int64\n",
            "condition          int64\n",
            "grade              int64\n",
            "sqft_above         int64\n",
            "sqft_basement      int64\n",
            "yr_built           int64\n",
            "yr_renovated       int64\n",
            "zipcode            int64\n",
            "lat              float64\n",
            "long             float64\n",
            "sqft_living15      int64\n",
            "sqft_lot15         int64\n",
            "dtype: object\n"
          ]
        }
      ]
    },
    {
      "cell_type": "code",
      "metadata": {
        "colab": {
          "base_uri": "https://localhost:8080/"
        },
        "id": "wFnq2p7z-Frg",
        "outputId": "1fe53fa2-313d-45b0-ebb1-f44ddf049899"
      },
      "source": [
        "print(df.drop_duplicates())"
      ],
      "execution_count": 47,
      "outputs": [
        {
          "output_type": "stream",
          "name": "stdout",
          "text": [
            "               id             date  ...  sqft_living15  sqft_lot15\n",
            "0      7129300520  20141013T000000  ...           1340        5650\n",
            "1      6414100192  20141209T000000  ...           1690        7639\n",
            "2      5631500400  20150225T000000  ...           2720        8062\n",
            "3      2487200875  20141209T000000  ...           1360        5000\n",
            "4      1954400510  20150218T000000  ...           1800        7503\n",
            "...           ...              ...  ...            ...         ...\n",
            "21608   263000018  20140521T000000  ...           1530        1509\n",
            "21609  6600060120  20150223T000000  ...           1830        7200\n",
            "21610  1523300141  20140623T000000  ...           1020        2007\n",
            "21611   291310100  20150116T000000  ...           1410        1287\n",
            "21612  1523300157  20141015T000000  ...           1020        1357\n",
            "\n",
            "[21613 rows x 21 columns]\n"
          ]
        }
      ]
    },
    {
      "cell_type": "code",
      "metadata": {
        "colab": {
          "base_uri": "https://localhost:8080/"
        },
        "id": "eaFIpkdf-JD_",
        "outputId": "f4f5168e-d8a7-46a7-9b93-4fd2414e5bea"
      },
      "source": [
        "item_missing = df.isna()\n",
        "print(item_missing.sum())"
      ],
      "execution_count": 48,
      "outputs": [
        {
          "output_type": "stream",
          "name": "stdout",
          "text": [
            "id               0\n",
            "date             0\n",
            "price            0\n",
            "bedrooms         0\n",
            "bathrooms        0\n",
            "sqft_living      0\n",
            "sqft_lot         0\n",
            "floors           0\n",
            "waterfront       0\n",
            "view             0\n",
            "condition        0\n",
            "grade            0\n",
            "sqft_above       0\n",
            "sqft_basement    0\n",
            "yr_built         0\n",
            "yr_renovated     0\n",
            "zipcode          0\n",
            "lat              0\n",
            "long             0\n",
            "sqft_living15    0\n",
            "sqft_lot15       0\n",
            "dtype: int64\n"
          ]
        }
      ]
    },
    {
      "cell_type": "code",
      "metadata": {
        "id": "gJbKHz-J9hsF"
      },
      "source": [
        "X = df.drop(columns = ['id', 'date'])"
      ],
      "execution_count": 26,
      "outputs": []
    },
    {
      "cell_type": "code",
      "metadata": {
        "id": "VjriMNvX-c4n"
      },
      "source": [
        "y = df['price']"
      ],
      "execution_count": 27,
      "outputs": []
    },
    {
      "cell_type": "code",
      "metadata": {
        "id": "4vRa34NR9s_U"
      },
      "source": [
        "X_train, X_test, y_train, y_test = train_test_split(X, y, random_state=42)"
      ],
      "execution_count": 49,
      "outputs": []
    },
    {
      "cell_type": "code",
      "metadata": {
        "id": "XdTG81vH-OXC"
      },
      "source": [
        "from sklearn.ensemble import BaggingRegressor"
      ],
      "execution_count": 50,
      "outputs": []
    },
    {
      "cell_type": "code",
      "metadata": {
        "colab": {
          "base_uri": "https://localhost:8080/"
        },
        "id": "1PVo87fa-qvx",
        "outputId": "be287032-8639-4b9a-87ff-10b247455984"
      },
      "source": [
        "# 1) Bagged trees\n",
        "bagreg = BaggingRegressor(random_state = 42)\n",
        "bagreg"
      ],
      "execution_count": 51,
      "outputs": [
        {
          "output_type": "execute_result",
          "data": {
            "text/plain": [
              "BaggingRegressor(base_estimator=None, bootstrap=True, bootstrap_features=False,\n",
              "                 max_features=1.0, max_samples=1.0, n_estimators=10,\n",
              "                 n_jobs=None, oob_score=False, random_state=42, verbose=0,\n",
              "                 warm_start=False)"
            ]
          },
          "metadata": {},
          "execution_count": 51
        }
      ]
    },
    {
      "cell_type": "code",
      "metadata": {
        "colab": {
          "base_uri": "https://localhost:8080/"
        },
        "id": "Y3tfQoGf-u_0",
        "outputId": "d341fb4f-40e0-4f3f-d0b7-767a3234bcc0"
      },
      "source": [
        "bagreg.fit(X_train, y_train)"
      ],
      "execution_count": 52,
      "outputs": [
        {
          "output_type": "execute_result",
          "data": {
            "text/plain": [
              "BaggingRegressor(base_estimator=None, bootstrap=True, bootstrap_features=False,\n",
              "                 max_features=1.0, max_samples=1.0, n_estimators=10,\n",
              "                 n_jobs=None, oob_score=False, random_state=42, verbose=0,\n",
              "                 warm_start=False)"
            ]
          },
          "metadata": {},
          "execution_count": 52
        }
      ]
    },
    {
      "cell_type": "code",
      "metadata": {
        "colab": {
          "base_uri": "https://localhost:8080/"
        },
        "id": "NK_p0lXV-3hm",
        "outputId": "6a2c5e30-ddf4-4c94-8061-6b83ba4065e7"
      },
      "source": [
        "bagreg.predict(X_test)"
      ],
      "execution_count": 53,
      "outputs": [
        {
          "output_type": "execute_result",
          "data": {
            "text/plain": [
              "array([ 365000.,  865000., 1037900., ...,  272520., 2249615.,  330000.])"
            ]
          },
          "metadata": {},
          "execution_count": 53
        }
      ]
    },
    {
      "cell_type": "code",
      "metadata": {
        "colab": {
          "base_uri": "https://localhost:8080/"
        },
        "id": "NbR9LaMl_C7F",
        "outputId": "7908a663-2b41-47b8-80a7-a35de3fd6c70"
      },
      "source": [
        "bagreg_train_score = bagreg.score(X_train, y_train)\n",
        "bagreg_test_score = bagreg.score(X_test, y_test)\n",
        "print(bagreg_train_score)\n",
        "print(bagreg_test_score)"
      ],
      "execution_count": 54,
      "outputs": [
        {
          "output_type": "stream",
          "name": "stdout",
          "text": [
            "0.9996705632535641\n",
            "0.9990475375662322\n"
          ]
        }
      ]
    },
    {
      "cell_type": "code",
      "metadata": {
        "id": "zrb0Y-Tm_J6s"
      },
      "source": [
        "# 2) Random forest regression techniques on the dataset to predict price from its its features. \n",
        "from sklearn.ensemble import RandomForestRegressor"
      ],
      "execution_count": 55,
      "outputs": []
    },
    {
      "cell_type": "code",
      "metadata": {
        "id": "BxRHEdkdCtKt"
      },
      "source": [
        "X = df.drop(columns = ['id', 'date'])\n",
        "y = df['price']"
      ],
      "execution_count": 63,
      "outputs": []
    },
    {
      "cell_type": "code",
      "metadata": {
        "colab": {
          "base_uri": "https://localhost:8080/"
        },
        "id": "bRHHjwhG_oug",
        "outputId": "f89a0f36-49f9-4679-bc3a-854779885277"
      },
      "source": [
        "rf = RandomForestRegressor(random_state = 42)\n",
        "rf"
      ],
      "execution_count": 64,
      "outputs": [
        {
          "output_type": "execute_result",
          "data": {
            "text/plain": [
              "RandomForestRegressor(bootstrap=True, ccp_alpha=0.0, criterion='mse',\n",
              "                      max_depth=None, max_features='auto', max_leaf_nodes=None,\n",
              "                      max_samples=None, min_impurity_decrease=0.0,\n",
              "                      min_impurity_split=None, min_samples_leaf=1,\n",
              "                      min_samples_split=2, min_weight_fraction_leaf=0.0,\n",
              "                      n_estimators=100, n_jobs=None, oob_score=False,\n",
              "                      random_state=42, verbose=0, warm_start=False)"
            ]
          },
          "metadata": {},
          "execution_count": 64
        }
      ]
    },
    {
      "cell_type": "code",
      "metadata": {
        "colab": {
          "base_uri": "https://localhost:8080/"
        },
        "id": "7lc4jtCC_wHg",
        "outputId": "97443e85-21dc-4c7b-ecde-294058270231"
      },
      "source": [
        "rf.fit(X_train, y_train)"
      ],
      "execution_count": 65,
      "outputs": [
        {
          "output_type": "execute_result",
          "data": {
            "text/plain": [
              "RandomForestRegressor(bootstrap=True, ccp_alpha=0.0, criterion='mse',\n",
              "                      max_depth=None, max_features='auto', max_leaf_nodes=None,\n",
              "                      max_samples=None, min_impurity_decrease=0.0,\n",
              "                      min_impurity_split=None, min_samples_leaf=1,\n",
              "                      min_samples_split=2, min_weight_fraction_leaf=0.0,\n",
              "                      n_estimators=100, n_jobs=None, oob_score=False,\n",
              "                      random_state=42, verbose=0, warm_start=False)"
            ]
          },
          "metadata": {},
          "execution_count": 65
        }
      ]
    },
    {
      "cell_type": "code",
      "metadata": {
        "colab": {
          "base_uri": "https://localhost:8080/"
        },
        "id": "zHziz7Nw_zj7",
        "outputId": "46bdaf4c-08eb-4667-f6f3-317faffd459d"
      },
      "source": [
        "rf.predict(X_test)"
      ],
      "execution_count": 66,
      "outputs": [
        {
          "output_type": "execute_result",
          "data": {
            "text/plain": [
              "array([ 365000. ,  865009.5, 1037652.7, ...,  272512. , 2250953.5,\n",
              "        330000. ])"
            ]
          },
          "metadata": {},
          "execution_count": 66
        }
      ]
    },
    {
      "cell_type": "code",
      "metadata": {
        "colab": {
          "base_uri": "https://localhost:8080/"
        },
        "id": "H0h1qSAc_70S",
        "outputId": "3edc3360-7e4c-4ec0-c384-d5c43cf2414b"
      },
      "source": [
        "rf_train_score = rf.score(X_train, y_train)\n",
        "rf_test_score = rf.score(X_test, y_test)\n",
        "print(rf_train_score)\n",
        "print(rf_test_score)\n"
      ],
      "execution_count": 67,
      "outputs": [
        {
          "output_type": "stream",
          "name": "stdout",
          "text": [
            "0.9996501880907537\n",
            "0.9989289056112444\n"
          ]
        }
      ]
    },
    {
      "cell_type": "code",
      "metadata": {
        "colab": {
          "base_uri": "https://localhost:8080/"
        },
        "id": "woSDH_WXASGm",
        "outputId": "14de1e2f-dbce-49ed-f5ac-19be2e4b7fbf"
      },
      "source": [
        "rf_9 = RandomForestRegressor(max_depth = 9, random_state = 42)\n",
        "rf_9.fit(X_train, y_train)\n",
        "rf_9_train_score = rf_9.score(X_train, y_train)\n",
        "rf_9_test_score = rf_9.score(X_test, y_test)\n",
        "print(rf_9_train_score)\n",
        "print(rf_9_test_score)"
      ],
      "execution_count": 68,
      "outputs": [
        {
          "output_type": "stream",
          "name": "stdout",
          "text": [
            "0.9996628916117319\n",
            "0.9991524099973565\n"
          ]
        }
      ]
    },
    {
      "cell_type": "code",
      "metadata": {
        "colab": {
          "base_uri": "https://localhost:8080/"
        },
        "id": "P9VfN6xDA6nN",
        "outputId": "24629585-bdd9-4ba8-9577-0e96d3f852a1"
      },
      "source": [
        "[estimator.get_depth() for estimator in rf.estimators_]"
      ],
      "execution_count": 69,
      "outputs": [
        {
          "output_type": "execute_result",
          "data": {
            "text/plain": [
              "[16,\n",
              " 16,\n",
              " 16,\n",
              " 16,\n",
              " 16,\n",
              " 17,\n",
              " 16,\n",
              " 17,\n",
              " 16,\n",
              " 16,\n",
              " 17,\n",
              " 17,\n",
              " 16,\n",
              " 16,\n",
              " 17,\n",
              " 16,\n",
              " 16,\n",
              " 16,\n",
              " 16,\n",
              " 16,\n",
              " 16,\n",
              " 16,\n",
              " 17,\n",
              " 16,\n",
              " 16,\n",
              " 17,\n",
              " 16,\n",
              " 16,\n",
              " 16,\n",
              " 17,\n",
              " 17,\n",
              " 17,\n",
              " 17,\n",
              " 16,\n",
              " 16,\n",
              " 16,\n",
              " 16,\n",
              " 16,\n",
              " 16,\n",
              " 16,\n",
              " 17,\n",
              " 16,\n",
              " 17,\n",
              " 16,\n",
              " 16,\n",
              " 17,\n",
              " 16,\n",
              " 16,\n",
              " 17,\n",
              " 16,\n",
              " 16,\n",
              " 16,\n",
              " 16,\n",
              " 16,\n",
              " 17,\n",
              " 16,\n",
              " 16,\n",
              " 17,\n",
              " 16,\n",
              " 16,\n",
              " 17,\n",
              " 17,\n",
              " 17,\n",
              " 16,\n",
              " 17,\n",
              " 17,\n",
              " 16,\n",
              " 16,\n",
              " 17,\n",
              " 16,\n",
              " 17,\n",
              " 16,\n",
              " 17,\n",
              " 17,\n",
              " 16,\n",
              " 17,\n",
              " 16,\n",
              " 16,\n",
              " 16,\n",
              " 17,\n",
              " 16,\n",
              " 16,\n",
              " 16,\n",
              " 16,\n",
              " 16,\n",
              " 16,\n",
              " 16,\n",
              " 16,\n",
              " 17,\n",
              " 16,\n",
              " 16,\n",
              " 16,\n",
              " 17,\n",
              " 17,\n",
              " 16,\n",
              " 17,\n",
              " 16,\n",
              " 16,\n",
              " 17,\n",
              " 16]"
            ]
          },
          "metadata": {},
          "execution_count": 69
        }
      ]
    },
    {
      "cell_type": "code",
      "metadata": {
        "id": "YJns3-dEBnS9"
      },
      "source": [
        ""
      ],
      "execution_count": null,
      "outputs": []
    }
  ]
}