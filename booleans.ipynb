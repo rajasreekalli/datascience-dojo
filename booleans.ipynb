{
  "nbformat": 4,
  "nbformat_minor": 0,
  "metadata": {
    "colab": {
      "name": "Untitled0.ipynb",
      "provenance": [],
      "collapsed_sections": [],
      "authorship_tag": "ABX9TyPha9pVbXZDOthD8iN8zUzx",
      "include_colab_link": true
    },
    "kernelspec": {
      "name": "python3",
      "display_name": "Python 3"
    },
    "language_info": {
      "name": "python"
    }
  },
  "cells": [
    {
      "cell_type": "markdown",
      "metadata": {
        "id": "view-in-github",
        "colab_type": "text"
      },
      "source": [
        "<a href=\"https://colab.research.google.com/github/rajasreekalli/datascience-dojo/blob/main/booleans.ipynb\" target=\"_parent\"><img src=\"https://colab.research.google.com/assets/colab-badge.svg\" alt=\"Open In Colab\"/></a>"
      ]
    },
    {
      "cell_type": "code",
      "metadata": {
        "colab": {
          "base_uri": "https://localhost:8080/"
        },
        "id": "kFEDGO6OZm__",
        "outputId": "42e4a229-d2da-4abd-dcb9-8136aeae913f"
      },
      "source": [
        "# add two integers together\n",
        "1 + 1"
      ],
      "execution_count": null,
      "outputs": [
        {
          "output_type": "execute_result",
          "data": {
            "text/plain": [
              "2"
            ]
          },
          "metadata": {},
          "execution_count": 1
        }
      ]
    },
    {
      "cell_type": "code",
      "metadata": {
        "colab": {
          "base_uri": "https://localhost:8080/"
        },
        "id": "8U2bqktjaDF4",
        "outputId": "5792dcd9-0604-4025-c9ab-6f036ddd9b38"
      },
      "source": [
        "# add two True together\n",
        "True + True"
      ],
      "execution_count": null,
      "outputs": [
        {
          "output_type": "execute_result",
          "data": {
            "text/plain": [
              "2"
            ]
          },
          "metadata": {},
          "execution_count": 4
        }
      ]
    },
    {
      "cell_type": "code",
      "metadata": {
        "colab": {
          "base_uri": "https://localhost:8080/"
        },
        "id": "CWt6uUUSaUCj",
        "outputId": "f613f561-a8e3-4956-bc8d-181b5f9f54e1"
      },
      "source": [
        "(1 + 1) == True + True"
      ],
      "execution_count": null,
      "outputs": [
        {
          "output_type": "execute_result",
          "data": {
            "text/plain": [
              "True"
            ]
          },
          "metadata": {},
          "execution_count": 5
        }
      ]
    },
    {
      "cell_type": "code",
      "metadata": {
        "colab": {
          "base_uri": "https://localhost:8080/"
        },
        "id": "eGHZmWYsbGMP",
        "outputId": "d9c5014d-a706-4a12-da26-28db9a01065b"
      },
      "source": [
        "# Notice you have to indent after you start a if statement.\n",
        "num = 3;\n",
        "if num == 3:\n",
        "  print(num)"
      ],
      "execution_count": null,
      "outputs": [
        {
          "output_type": "stream",
          "name": "stdout",
          "text": [
            "3\n"
          ]
        }
      ]
    },
    {
      "cell_type": "code",
      "metadata": {
        "colab": {
          "base_uri": "https://localhost:8080/"
        },
        "id": "PDVVL-A0dgdX",
        "outputId": "d1642ac1-6871-4e95-eca8-692c10f3bcfc"
      },
      "source": [
        "num = 3\n",
        "if num % 3 == 0:\n",
        "    print(\"Fizz\")"
      ],
      "execution_count": 8,
      "outputs": [
        {
          "output_type": "stream",
          "name": "stdout",
          "text": [
            "Fizz\n"
          ]
        }
      ]
    },
    {
      "cell_type": "code",
      "metadata": {
        "colab": {
          "base_uri": "https://localhost:8080/"
        },
        "id": "VwCQ83CfeDet",
        "outputId": "4571da94-f330-4168-c2eb-3fdbfe0bc5d2"
      },
      "source": [
        "num = 10\n",
        "if num % 5 == 0:\n",
        "    print(\"Buzz\")"
      ],
      "execution_count": 10,
      "outputs": [
        {
          "output_type": "stream",
          "name": "stdout",
          "text": [
            "Buzz\n"
          ]
        }
      ]
    },
    {
      "cell_type": "code",
      "metadata": {
        "colab": {
          "base_uri": "https://localhost:8080/"
        },
        "id": "s1e5qShUeNFi",
        "outputId": "82805dc4-458c-4716-abb1-271252770675"
      },
      "source": [
        "num = 4\n",
        "print(num > 0 and num  < 15)"
      ],
      "execution_count": 11,
      "outputs": [
        {
          "output_type": "stream",
          "name": "stdout",
          "text": [
            "True\n"
          ]
        }
      ]
    },
    {
      "cell_type": "code",
      "metadata": {
        "colab": {
          "base_uri": "https://localhost:8080/"
        },
        "id": "xIj3_htleRHE",
        "outputId": "50fc4186-e682-4bd1-8b88-752133016929"
      },
      "source": [
        "# num > 0 is True, num > 15 is False\n",
        "# Since the first condition is True, it is True\n",
        "num = 4\n",
        "num > 0 or num  > 15"
      ],
      "execution_count": 12,
      "outputs": [
        {
          "output_type": "execute_result",
          "data": {
            "text/plain": [
              "True"
            ]
          },
          "metadata": {},
          "execution_count": 12
        }
      ]
    },
    {
      "cell_type": "code",
      "metadata": {
        "colab": {
          "base_uri": "https://localhost:8080/"
        },
        "id": "Y7Ln9omUefDa",
        "outputId": "b11df46c-db18-45ab-fc34-61d4d4203273"
      },
      "source": [
        "\"\"\"What is inside the else statement will print\n",
        "because num is not greater than 3\n",
        "\"\"\"\n",
        "num = 4\n",
        "if num > 3 :\n",
        "    print(\"Hi\")\n",
        "else: \n",
        "    print(\"number is not greater than 3\")"
      ],
      "execution_count": 14,
      "outputs": [
        {
          "output_type": "stream",
          "name": "stdout",
          "text": [
            "Hi\n"
          ]
        }
      ]
    },
    {
      "cell_type": "code",
      "metadata": {
        "colab": {
          "base_uri": "https://localhost:8080/"
        },
        "id": "oX79zioUe6fj",
        "outputId": "8cd63d50-6a78-41f8-ee7e-372c75a54aa1"
      },
      "source": [
        "num = 4\n",
        "if num > 5:\n",
        "    print('hi')\n",
        "else:\n",
        "    print('Hi Class!!!')"
      ],
      "execution_count": 15,
      "outputs": [
        {
          "output_type": "stream",
          "name": "stdout",
          "text": [
            "Hi Class!!!\n"
          ]
        }
      ]
    },
    {
      "cell_type": "code",
      "metadata": {
        "colab": {
          "base_uri": "https://localhost:8080/"
        },
        "id": "92R8KYeUj9RS",
        "outputId": "8fff2a56-cd1d-40b8-c7a0-e9006940aecc"
      },
      "source": [
        "num = 19\n",
        "if num > 50:\n",
        "    print('num is larger than 50')\n",
        "elif num == 21:\n",
        "    print('num = 21')\n",
        "else:\n",
        "    print('Catchall condition')"
      ],
      "execution_count": 26,
      "outputs": [
        {
          "output_type": "stream",
          "name": "stdout",
          "text": [
            "Catchall condition\n"
          ]
        }
      ]
    },
    {
      "cell_type": "code",
      "metadata": {
        "colab": {
          "base_uri": "https://localhost:8080/"
        },
        "id": "ZTkjKX_NkFsb",
        "outputId": "0e6515d1-8970-41a6-8c3b-67c5cbe98842"
      },
      "source": [
        "my_num = 5\n",
        "if my_num % 2 == 0:\n",
        "    print(\"Your number is even\")\n",
        "elif my_num % 2 != 0:\n",
        "    print(\"Your number is odd\")\n",
        "else: \n",
        "    print(\"Are you sure your number is an integer?\")"
      ],
      "execution_count": 27,
      "outputs": [
        {
          "output_type": "stream",
          "name": "stdout",
          "text": [
            "Your number is odd\n"
          ]
        }
      ]
    },
    {
      "cell_type": "code",
      "metadata": {
        "colab": {
          "base_uri": "https://localhost:8080/"
        },
        "id": "0P58kiJGkJMH",
        "outputId": "5c1a8eb2-d90c-4a35-bd7d-ee9e04738987"
      },
      "source": [
        "num = 3\n",
        "if num % 3 == 0 and num % 5 == 0:\n",
        "    print('FizzBuzz')\n",
        "elif num % 3 == 0:\n",
        "    print('Fizz')\n",
        "elif num % 5 == 0:\n",
        "    print('Buzz')\n",
        "else:\n",
        "    print(num)\n"
      ],
      "execution_count": 28,
      "outputs": [
        {
          "output_type": "stream",
          "name": "stdout",
          "text": [
            "Fizz\n"
          ]
        }
      ]
    },
    {
      "cell_type": "code",
      "metadata": {
        "colab": {
          "base_uri": "https://localhost:8080/"
        },
        "id": "rAdiekOmkTlo",
        "outputId": "f4e01ad4-48aa-4932-a694-3d9ea7144175"
      },
      "source": [
        "for num in range(20):\n",
        "  if num % 3 == 0:\n",
        "    print('Fizz')\n",
        "  if num % 5 == 0:\n",
        "    print('Buzz')\n",
        "  if num % 3 == 0 and num % 5 == 0:\n",
        "    print('Fizzbuzz')\n"
      ],
      "execution_count": 30,
      "outputs": [
        {
          "output_type": "stream",
          "name": "stdout",
          "text": [
            "Fizz\n",
            "Buzz\n",
            "Fizzbuzz\n",
            "Fizz\n",
            "Buzz\n",
            "Fizz\n",
            "Fizz\n",
            "Buzz\n",
            "Fizz\n",
            "Fizz\n",
            "Buzz\n",
            "Fizzbuzz\n",
            "Fizz\n"
          ]
        }
      ]
    },
    {
      "cell_type": "code",
      "metadata": {
        "id": "laTk5L37kaXq"
      },
      "source": [
        ""
      ],
      "execution_count": null,
      "outputs": []
    }
  ]
}