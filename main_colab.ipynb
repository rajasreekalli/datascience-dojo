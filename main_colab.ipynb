{
  "nbformat": 4,
  "nbformat_minor": 0,
  "metadata": {
    "colab": {
      "name": "Untitled2.ipynb",
      "provenance": [],
      "collapsed_sections": [],
      "authorship_tag": "ABX9TyOP22BMQa3wMYzfQyMq2Qej",
      "include_colab_link": true
    },
    "kernelspec": {
      "name": "python3",
      "display_name": "Python 3"
    },
    "language_info": {
      "name": "python"
    }
  },
  "cells": [
    {
      "cell_type": "markdown",
      "metadata": {
        "id": "view-in-github",
        "colab_type": "text"
      },
      "source": [
        "<a href=\"https://colab.research.google.com/github/rajasreekalli/datascience-dojo/blob/main/main_colab.ipynb\" target=\"_parent\"><img src=\"https://colab.research.google.com/assets/colab-badge.svg\" alt=\"Open In Colab\"/></a>"
      ]
    },
    {
      "cell_type": "code",
      "metadata": {
        "colab": {
          "base_uri": "https://localhost:8080/"
        },
        "id": "t_m2iCDzY695",
        "outputId": "ccc1b474-b50e-4642-c146-552dd09d0841"
      },
      "source": [
        "print(\"hello world\")\n"
      ],
      "execution_count": null,
      "outputs": [
        {
          "output_type": "stream",
          "name": "stdout",
          "text": [
            "hello world\n"
          ]
        }
      ]
    },
    {
      "cell_type": "code",
      "metadata": {
        "colab": {
          "base_uri": "https://localhost:8080/"
        },
        "id": "lOMVPr2yZJtG",
        "outputId": "fdfc7172-ff49-4a37-9db0-a9b4350b371f"
      },
      "source": [
        "print('hello world!')"
      ],
      "execution_count": null,
      "outputs": [
        {
          "output_type": "stream",
          "name": "stdout",
          "text": [
            "hello world!\n"
          ]
        }
      ]
    },
    {
      "cell_type": "code",
      "metadata": {
        "colab": {
          "base_uri": "https://localhost:8080/"
        },
        "id": "fIlRCiRdageh",
        "outputId": "0d73de7c-2ad1-4915-ccb4-6ff2bd27f07a"
      },
      "source": [
        "print(type('hello world!'))"
      ],
      "execution_count": null,
      "outputs": [
        {
          "output_type": "stream",
          "name": "stdout",
          "text": [
            "<class 'str'>\n"
          ]
        }
      ]
    },
    {
      "cell_type": "code",
      "metadata": {
        "colab": {
          "base_uri": "https://localhost:8080/"
        },
        "id": "jQPj-r6ya6H2",
        "outputId": "092f4e87-14e2-4582-b095-c2b5ca7d1136"
      },
      "source": [
        "# single quotes\n",
        "print('hello world!')"
      ],
      "execution_count": null,
      "outputs": [
        {
          "output_type": "stream",
          "name": "stdout",
          "text": [
            "hello world!\n"
          ]
        }
      ]
    },
    {
      "cell_type": "code",
      "metadata": {
        "colab": {
          "base_uri": "https://localhost:8080/"
        },
        "id": "ougD_2Ktbat8",
        "outputId": "4540ec45-a215-4484-94cc-777da3e30200"
      },
      "source": [
        "# double quotes\n",
        "print(\"hello world!\")"
      ],
      "execution_count": null,
      "outputs": [
        {
          "output_type": "stream",
          "name": "stdout",
          "text": [
            "hello world!\n"
          ]
        }
      ]
    },
    {
      "cell_type": "code",
      "metadata": {
        "colab": {
          "base_uri": "https://localhost:8080/"
        },
        "id": "hbsyuvXSbmnI",
        "outputId": "c57f9132-08ad-4b4c-b19a-5b84e256f3af"
      },
      "source": [
        "# Assign string \"Jeff\" to variable name\n",
        "name = \"jeff\"\n",
        "# print variable name\n",
        "print(name)"
      ],
      "execution_count": null,
      "outputs": [
        {
          "output_type": "stream",
          "name": "stdout",
          "text": [
            "jeff\n"
          ]
        }
      ]
    },
    {
      "cell_type": "code",
      "metadata": {
        "colab": {
          "base_uri": "https://localhost:8080/"
        },
        "id": "5HLmv57acYIa",
        "outputId": "7e5f9996-6f41-4034-94cb-1bb4cead9846"
      },
      "source": [
        "# Multiple line string\n",
        "popularLyric  = \"\"\"Blackbird singing in the dead of night\n",
        "Take these broken wings and learn to fly\n",
        "All your life\n",
        "You were only waiting for this moment to arise\"\"\"\n",
        "print(popularLyric.lower())"
      ],
      "execution_count": null,
      "outputs": [
        {
          "output_type": "stream",
          "name": "stdout",
          "text": [
            "blackbird singing in the dead of night\n",
            "take these broken wings and learn to fly\n",
            "all your life\n",
            "you were only waiting for this moment to arise\n"
          ]
        }
      ]
    },
    {
      "cell_type": "code",
      "metadata": {
        "colab": {
          "base_uri": "https://localhost:8080/"
        },
        "id": "qIE5drsreFZR",
        "outputId": "294c6aab-c93c-4700-bfe7-5ed2525e5311"
      },
      "source": [
        "print(popularLyric.upper())"
      ],
      "execution_count": null,
      "outputs": [
        {
          "output_type": "stream",
          "name": "stdout",
          "text": [
            "BLACKBIRD SINGING IN THE DEAD OF NIGHT\n",
            "TAKE THESE BROKEN WINGS AND LEARN TO FLY\n",
            "ALL YOUR LIFE\n",
            "YOU WERE ONLY WAITING FOR THIS MOMENT TO ARISE\n"
          ]
        }
      ]
    },
    {
      "cell_type": "code",
      "metadata": {
        "colab": {
          "base_uri": "https://localhost:8080/"
        },
        "id": "pAO68ECHeO-5",
        "outputId": "8cc564e3-5682-4a72-bb11-a8c5afdde7fe"
      },
      "source": [
        "print(popularLyric.title())\n"
      ],
      "execution_count": null,
      "outputs": [
        {
          "output_type": "stream",
          "name": "stdout",
          "text": [
            "Blackbird Singing In The Dead Of Night\n",
            "Take These Broken Wings And Learn To Fly\n",
            "All Your Life\n",
            "You Were Only Waiting For This Moment To Arise\n"
          ]
        }
      ]
    },
    {
      "cell_type": "code",
      "metadata": {
        "id": "33Ju0IHmeZ_0"
      },
      "source": [
        ""
      ],
      "execution_count": null,
      "outputs": []
    }
  ]
}