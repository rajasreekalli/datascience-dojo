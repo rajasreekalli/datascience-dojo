{
  "nbformat": 4,
  "nbformat_minor": 0,
  "metadata": {
    "colab": {
      "name": "Copy of Exploring_City_Pops.ipynb",
      "provenance": [],
      "include_colab_link": true
    },
    "kernelspec": {
      "name": "python3",
      "display_name": "Python 3"
    },
    "language_info": {
      "name": "python"
    }
  },
  "cells": [
    {
      "cell_type": "markdown",
      "metadata": {
        "id": "view-in-github",
        "colab_type": "text"
      },
      "source": [
        "<a href=\"https://colab.research.google.com/github/rajasreekalli/datascience-dojo/blob/main/Copy_of_Exploring_City_Pops.ipynb\" target=\"_parent\"><img src=\"https://colab.research.google.com/assets/colab-badge.svg\" alt=\"Open In Colab\"/></a>"
      ]
    },
    {
      "cell_type": "markdown",
      "metadata": {
        "id": "k43UmropcjOf"
      },
      "source": [
        "#Exploring City Populations\n",
        "\n",
        "\n",
        "Always make a copy of the notebook first! \n",
        "\n",
        "0) Mount your drive and read in the Total Population by City [dataset](https://drive.google.com/file/d/1-fOFYQvP23Xmn1FwG17RSCw2dKf4f9vJ/view?usp=sharing\n",
        ")  \n",
        "\n"
      ]
    },
    {
      "cell_type": "code",
      "metadata": {
        "id": "6y7MbhiQ0FRW",
        "colab": {
          "base_uri": "https://localhost:8080/"
        },
        "outputId": "c4492a31-5c79-44ab-90ca-1d3763eacb78"
      },
      "source": [
        "from google.colab import drive\n",
        "drive.mount('/content/drive')"
      ],
      "execution_count": 1,
      "outputs": [
        {
          "output_type": "stream",
          "name": "stdout",
          "text": [
            "Mounted at /content/drive\n"
          ]
        }
      ]
    },
    {
      "cell_type": "code",
      "metadata": {
        "id": "Mlpm7KDRZnsd",
        "colab": {
          "base_uri": "https://localhost:8080/",
          "height": 204
        },
        "outputId": "67b272cf-6221-42ec-ead8-c4aa7ed362b9"
      },
      "source": [
        "# import pandas\n",
        "\n",
        "import pandas as pd\n",
        "# read in the excel file and name your dataframe (df is common, but unoriginal)\n",
        "df = pd.read_excel('/content/drive/MyDrive/Total_Population_By_City_Acs_2015.xlsx')\n",
        "# explore the top 5 rows of dataframe (this is the head)\n",
        "df.head()"
      ],
      "execution_count": 8,
      "outputs": [
        {
          "output_type": "execute_result",
          "data": {
            "text/html": [
              "<div>\n",
              "<style scoped>\n",
              "    .dataframe tbody tr th:only-of-type {\n",
              "        vertical-align: middle;\n",
              "    }\n",
              "\n",
              "    .dataframe tbody tr th {\n",
              "        vertical-align: top;\n",
              "    }\n",
              "\n",
              "    .dataframe thead th {\n",
              "        text-align: right;\n",
              "    }\n",
              "</style>\n",
              "<table border=\"1\" class=\"dataframe\">\n",
              "  <thead>\n",
              "    <tr style=\"text-align: right;\">\n",
              "      <th></th>\n",
              "      <th>Table_Id</th>\n",
              "      <th>City</th>\n",
              "      <th>Summary_Level</th>\n",
              "      <th>Place_Fips</th>\n",
              "      <th>Geo_Id</th>\n",
              "      <th>State</th>\n",
              "      <th>State_Fips</th>\n",
              "      <th>Total_Population</th>\n",
              "    </tr>\n",
              "  </thead>\n",
              "  <tbody>\n",
              "    <tr>\n",
              "      <th>0</th>\n",
              "      <td>100001</td>\n",
              "      <td>Coffman Cove</td>\n",
              "      <td>160</td>\n",
              "      <td>16360</td>\n",
              "      <td>16000US0216360</td>\n",
              "      <td>AK</td>\n",
              "      <td>2</td>\n",
              "      <td>150</td>\n",
              "    </tr>\n",
              "    <tr>\n",
              "      <th>1</th>\n",
              "      <td>100002</td>\n",
              "      <td>Cohoe</td>\n",
              "      <td>160</td>\n",
              "      <td>16420</td>\n",
              "      <td>16000US0216420</td>\n",
              "      <td>AK</td>\n",
              "      <td>2</td>\n",
              "      <td>1577</td>\n",
              "    </tr>\n",
              "    <tr>\n",
              "      <th>2</th>\n",
              "      <td>100003</td>\n",
              "      <td>Cold Bay</td>\n",
              "      <td>160</td>\n",
              "      <td>16530</td>\n",
              "      <td>16000US0216530</td>\n",
              "      <td>AK</td>\n",
              "      <td>2</td>\n",
              "      <td>46</td>\n",
              "    </tr>\n",
              "    <tr>\n",
              "      <th>3</th>\n",
              "      <td>100004</td>\n",
              "      <td>Coldfoot</td>\n",
              "      <td>160</td>\n",
              "      <td>16630</td>\n",
              "      <td>16000US0216630</td>\n",
              "      <td>AK</td>\n",
              "      <td>2</td>\n",
              "      <td>10</td>\n",
              "    </tr>\n",
              "    <tr>\n",
              "      <th>4</th>\n",
              "      <td>100005</td>\n",
              "      <td>College</td>\n",
              "      <td>160</td>\n",
              "      <td>16750</td>\n",
              "      <td>16000US0216750</td>\n",
              "      <td>AK</td>\n",
              "      <td>2</td>\n",
              "      <td>14675</td>\n",
              "    </tr>\n",
              "  </tbody>\n",
              "</table>\n",
              "</div>"
            ],
            "text/plain": [
              "   Table_Id          City  Summary_Level  ...  State State_Fips Total_Population\n",
              "0    100001  Coffman Cove            160  ...     AK          2              150\n",
              "1    100002         Cohoe            160  ...     AK          2             1577\n",
              "2    100003      Cold Bay            160  ...     AK          2               46\n",
              "3    100004      Coldfoot            160  ...     AK          2               10\n",
              "4    100005       College            160  ...     AK          2            14675\n",
              "\n",
              "[5 rows x 8 columns]"
            ]
          },
          "metadata": {},
          "execution_count": 8
        }
      ]
    },
    {
      "cell_type": "markdown",
      "metadata": {
        "id": "ulP4AfF-aZ1z"
      },
      "source": [
        "Now that you have read the data set into Python, you can explore it!\n",
        "\n",
        "1) How many rows and columns are in the data set?"
      ]
    },
    {
      "cell_type": "code",
      "metadata": {
        "id": "1OLuZXrLaZUm",
        "colab": {
          "base_uri": "https://localhost:8080/"
        },
        "outputId": "a5314b1d-4f9d-4afe-e4c6-ceae2e58a883"
      },
      "source": [
        "df.info()\n"
      ],
      "execution_count": 23,
      "outputs": [
        {
          "output_type": "stream",
          "name": "stdout",
          "text": [
            "<class 'pandas.core.frame.DataFrame'>\n",
            "RangeIndex: 29574 entries, 0 to 29573\n",
            "Data columns (total 8 columns):\n",
            " #   Column            Non-Null Count  Dtype \n",
            "---  ------            --------------  ----- \n",
            " 0   Table_Id          29574 non-null  int64 \n",
            " 1   City              29574 non-null  object\n",
            " 2   Summary_Level     29574 non-null  int64 \n",
            " 3   Place_Fips        29574 non-null  int64 \n",
            " 4   Geo_Id            29574 non-null  object\n",
            " 5   State             29574 non-null  object\n",
            " 6   State_Fips        29574 non-null  int64 \n",
            " 7   Total_Population  29574 non-null  int64 \n",
            "dtypes: int64(5), object(3)\n",
            "memory usage: 1.8+ MB\n"
          ]
        }
      ]
    },
    {
      "cell_type": "markdown",
      "metadata": {
        "id": "7oX1IctgbWZY"
      },
      "source": [
        "2) What is the data type of the \"Table_Id\" Column and what is the data type of the \"City\" Column?"
      ]
    },
    {
      "cell_type": "code",
      "metadata": {
        "id": "Xgnd_y6ccc9e",
        "colab": {
          "base_uri": "https://localhost:8080/"
        },
        "outputId": "e04749c3-1119-487c-e164-ca5c2cc65a92"
      },
      "source": [
        "df.dtypes['Table_Id']"
      ],
      "execution_count": 11,
      "outputs": [
        {
          "output_type": "execute_result",
          "data": {
            "text/plain": [
              "dtype('int64')"
            ]
          },
          "metadata": {},
          "execution_count": 11
        }
      ]
    },
    {
      "cell_type": "markdown",
      "metadata": {
        "id": "OZ5W-25GbxDh"
      },
      "source": [
        "3) Find the maxumum value for the Total_Population column\n"
      ]
    },
    {
      "cell_type": "code",
      "metadata": {
        "id": "PIaYnkCJazNO",
        "colab": {
          "base_uri": "https://localhost:8080/"
        },
        "outputId": "e8de8342-f019-481a-9e44-ebd88b8e5106"
      },
      "source": [
        "df['Total_Population'].max()"
      ],
      "execution_count": 13,
      "outputs": [
        {
          "output_type": "execute_result",
          "data": {
            "text/plain": [
              "8426743"
            ]
          },
          "metadata": {},
          "execution_count": 13
        }
      ]
    },
    {
      "cell_type": "code",
      "metadata": {
        "id": "4qC2jJeAmLFY"
      },
      "source": [
        ""
      ],
      "execution_count": null,
      "outputs": []
    },
    {
      "cell_type": "markdown",
      "metadata": {
        "id": "uiyYSCg8cM3i"
      },
      "source": [
        "4) Find the minimum value for the Total_Population column."
      ]
    },
    {
      "cell_type": "code",
      "metadata": {
        "id": "ztQknRzkcI9O",
        "colab": {
          "base_uri": "https://localhost:8080/"
        },
        "outputId": "541814ea-81cc-4afe-fa38-96d587f10975"
      },
      "source": [
        "df['Total_Population'].min()"
      ],
      "execution_count": 14,
      "outputs": [
        {
          "output_type": "execute_result",
          "data": {
            "text/plain": [
              "0"
            ]
          },
          "metadata": {},
          "execution_count": 14
        }
      ]
    },
    {
      "cell_type": "code",
      "metadata": {
        "id": "swoMedLnmRNN"
      },
      "source": [
        ""
      ],
      "execution_count": null,
      "outputs": []
    },
    {
      "cell_type": "markdown",
      "metadata": {
        "id": "-XK6bLAvcTBE"
      },
      "source": [
        "5) What is the average population based on all cities?"
      ]
    },
    {
      "cell_type": "code",
      "metadata": {
        "id": "x0cf2aU8cAKc",
        "colab": {
          "base_uri": "https://localhost:8080/"
        },
        "outputId": "06e4a541-4b5d-4f5c-da77-75d5fd8d903e"
      },
      "source": [
        "df['Total_Population'].mean()"
      ],
      "execution_count": 15,
      "outputs": [
        {
          "output_type": "execute_result",
          "data": {
            "text/plain": [
              "8043.275275579901"
            ]
          },
          "metadata": {},
          "execution_count": 15
        }
      ]
    },
    {
      "cell_type": "code",
      "metadata": {
        "id": "CodLQCjNl2K7"
      },
      "source": [
        ""
      ],
      "execution_count": null,
      "outputs": []
    },
    {
      "cell_type": "markdown",
      "metadata": {
        "id": "AEvsigmudlDY"
      },
      "source": [
        "6) What happens if you try to find the mean of the Geo_Id column? Why does this happen?"
      ]
    },
    {
      "cell_type": "code",
      "metadata": {
        "id": "f0fCm5fYd94a"
      },
      "source": [
        "# df['Geo_Id'].mean()"
      ],
      "execution_count": 16,
      "outputs": []
    },
    {
      "cell_type": "markdown",
      "metadata": {
        "id": "6w_OD5lu4B3F"
      },
      "source": [
        "7) Sort the dataframe by Total_Population. Use the results to list a few cities that show a popoulation of 0."
      ]
    },
    {
      "cell_type": "code",
      "metadata": {
        "id": "0mmo3kJ7sfGj",
        "colab": {
          "base_uri": "https://localhost:8080/",
          "height": 419
        },
        "outputId": "40aaa98a-77a5-4a55-9630-e1f48545bfa5"
      },
      "source": [
        "df.sort_values('Total_Population')"
      ],
      "execution_count": 19,
      "outputs": [
        {
          "output_type": "execute_result",
          "data": {
            "text/html": [
              "<div>\n",
              "<style scoped>\n",
              "    .dataframe tbody tr th:only-of-type {\n",
              "        vertical-align: middle;\n",
              "    }\n",
              "\n",
              "    .dataframe tbody tr th {\n",
              "        vertical-align: top;\n",
              "    }\n",
              "\n",
              "    .dataframe thead th {\n",
              "        text-align: right;\n",
              "    }\n",
              "</style>\n",
              "<table border=\"1\" class=\"dataframe\">\n",
              "  <thead>\n",
              "    <tr style=\"text-align: right;\">\n",
              "      <th></th>\n",
              "      <th>Table_Id</th>\n",
              "      <th>City</th>\n",
              "      <th>Summary_Level</th>\n",
              "      <th>Place_Fips</th>\n",
              "      <th>Geo_Id</th>\n",
              "      <th>State</th>\n",
              "      <th>State_Fips</th>\n",
              "      <th>Total_Population</th>\n",
              "    </tr>\n",
              "  </thead>\n",
              "  <tbody>\n",
              "    <tr>\n",
              "      <th>2551</th>\n",
              "      <td>102552</td>\n",
              "      <td>Wilsonia</td>\n",
              "      <td>160</td>\n",
              "      <td>85866</td>\n",
              "      <td>16000US0685866</td>\n",
              "      <td>CA</td>\n",
              "      <td>6</td>\n",
              "      <td>0</td>\n",
              "    </tr>\n",
              "    <tr>\n",
              "      <th>28979</th>\n",
              "      <td>128980</td>\n",
              "      <td>Bowden</td>\n",
              "      <td>160</td>\n",
              "      <td>9364</td>\n",
              "      <td>16000US5409364</td>\n",
              "      <td>WV</td>\n",
              "      <td>54</td>\n",
              "      <td>0</td>\n",
              "    </tr>\n",
              "    <tr>\n",
              "      <th>23966</th>\n",
              "      <td>123967</td>\n",
              "      <td>Bijou Hills</td>\n",
              "      <td>160</td>\n",
              "      <td>5580</td>\n",
              "      <td>16000US4605580</td>\n",
              "      <td>SD</td>\n",
              "      <td>46</td>\n",
              "      <td>0</td>\n",
              "    </tr>\n",
              "    <tr>\n",
              "      <th>4525</th>\n",
              "      <td>104526</td>\n",
              "      <td>Lake Harbor</td>\n",
              "      <td>160</td>\n",
              "      <td>38000</td>\n",
              "      <td>16000US1238000</td>\n",
              "      <td>FL</td>\n",
              "      <td>12</td>\n",
              "      <td>0</td>\n",
              "    </tr>\n",
              "    <tr>\n",
              "      <th>188</th>\n",
              "      <td>100189</td>\n",
              "      <td>Petersville</td>\n",
              "      <td>160</td>\n",
              "      <td>60460</td>\n",
              "      <td>16000US0260460</td>\n",
              "      <td>AK</td>\n",
              "      <td>2</td>\n",
              "      <td>0</td>\n",
              "    </tr>\n",
              "    <tr>\n",
              "      <th>...</th>\n",
              "      <td>...</td>\n",
              "      <td>...</td>\n",
              "      <td>...</td>\n",
              "      <td>...</td>\n",
              "      <td>...</td>\n",
              "      <td>...</td>\n",
              "      <td>...</td>\n",
              "      <td>...</td>\n",
              "    </tr>\n",
              "    <tr>\n",
              "      <th>21819</th>\n",
              "      <td>121820</td>\n",
              "      <td>Philadelphia</td>\n",
              "      <td>160</td>\n",
              "      <td>60000</td>\n",
              "      <td>16000US4260000</td>\n",
              "      <td>PA</td>\n",
              "      <td>42</td>\n",
              "      <td>1555072</td>\n",
              "    </tr>\n",
              "    <tr>\n",
              "      <th>26469</th>\n",
              "      <td>126470</td>\n",
              "      <td>Houston</td>\n",
              "      <td>160</td>\n",
              "      <td>35000</td>\n",
              "      <td>16000US4835000</td>\n",
              "      <td>TX</td>\n",
              "      <td>48</td>\n",
              "      <td>2217706</td>\n",
              "    </tr>\n",
              "    <tr>\n",
              "      <th>7773</th>\n",
              "      <td>107774</td>\n",
              "      <td>Chicago</td>\n",
              "      <td>160</td>\n",
              "      <td>14000</td>\n",
              "      <td>16000US1714000</td>\n",
              "      <td>IL</td>\n",
              "      <td>17</td>\n",
              "      <td>2717534</td>\n",
              "    </tr>\n",
              "    <tr>\n",
              "      <th>3304</th>\n",
              "      <td>103305</td>\n",
              "      <td>Los Angeles</td>\n",
              "      <td>160</td>\n",
              "      <td>44000</td>\n",
              "      <td>16000US0644000</td>\n",
              "      <td>CA</td>\n",
              "      <td>6</td>\n",
              "      <td>3900794</td>\n",
              "    </tr>\n",
              "    <tr>\n",
              "      <th>18940</th>\n",
              "      <td>118941</td>\n",
              "      <td>New York</td>\n",
              "      <td>160</td>\n",
              "      <td>51000</td>\n",
              "      <td>16000US3651000</td>\n",
              "      <td>NY</td>\n",
              "      <td>36</td>\n",
              "      <td>8426743</td>\n",
              "    </tr>\n",
              "  </tbody>\n",
              "</table>\n",
              "<p>29574 rows × 8 columns</p>\n",
              "</div>"
            ],
            "text/plain": [
              "       Table_Id          City  ...  State_Fips  Total_Population\n",
              "2551     102552      Wilsonia  ...           6                 0\n",
              "28979    128980        Bowden  ...          54                 0\n",
              "23966    123967   Bijou Hills  ...          46                 0\n",
              "4525     104526   Lake Harbor  ...          12                 0\n",
              "188      100189   Petersville  ...           2                 0\n",
              "...         ...           ...  ...         ...               ...\n",
              "21819    121820  Philadelphia  ...          42           1555072\n",
              "26469    126470       Houston  ...          48           2217706\n",
              "7773     107774       Chicago  ...          17           2717534\n",
              "3304     103305   Los Angeles  ...           6           3900794\n",
              "18940    118941      New York  ...          36           8426743\n",
              "\n",
              "[29574 rows x 8 columns]"
            ]
          },
          "metadata": {},
          "execution_count": 19
        }
      ]
    },
    {
      "cell_type": "markdown",
      "metadata": {
        "id": "IRnwT2QHe-sf"
      },
      "source": [
        "8) Now sort by Total_Population so that the largest value is first.  Based on this 2015 data set, what is the 5th ranking city based on Total_Population?"
      ]
    },
    {
      "cell_type": "code",
      "metadata": {
        "id": "CGTet5sue9uM",
        "colab": {
          "base_uri": "https://localhost:8080/",
          "height": 359
        },
        "outputId": "9a7fd92e-797a-4718-e7c8-174a5fee77e0"
      },
      "source": [
        "df.sort_values('Total_Population', ascending = False).head(10)"
      ],
      "execution_count": 49,
      "outputs": [
        {
          "output_type": "execute_result",
          "data": {
            "text/html": [
              "<div>\n",
              "<style scoped>\n",
              "    .dataframe tbody tr th:only-of-type {\n",
              "        vertical-align: middle;\n",
              "    }\n",
              "\n",
              "    .dataframe tbody tr th {\n",
              "        vertical-align: top;\n",
              "    }\n",
              "\n",
              "    .dataframe thead th {\n",
              "        text-align: right;\n",
              "    }\n",
              "</style>\n",
              "<table border=\"1\" class=\"dataframe\">\n",
              "  <thead>\n",
              "    <tr style=\"text-align: right;\">\n",
              "      <th></th>\n",
              "      <th>Table_Id</th>\n",
              "      <th>City</th>\n",
              "      <th>Summary_Level</th>\n",
              "      <th>Place_Fips</th>\n",
              "      <th>Geo_Id</th>\n",
              "      <th>State</th>\n",
              "      <th>State_Fips</th>\n",
              "      <th>Total_Population</th>\n",
              "    </tr>\n",
              "  </thead>\n",
              "  <tbody>\n",
              "    <tr>\n",
              "      <th>18940</th>\n",
              "      <td>118941</td>\n",
              "      <td>New York</td>\n",
              "      <td>160</td>\n",
              "      <td>51000</td>\n",
              "      <td>16000US3651000</td>\n",
              "      <td>NY</td>\n",
              "      <td>36</td>\n",
              "      <td>8426743</td>\n",
              "    </tr>\n",
              "    <tr>\n",
              "      <th>3304</th>\n",
              "      <td>103305</td>\n",
              "      <td>Los Angeles</td>\n",
              "      <td>160</td>\n",
              "      <td>44000</td>\n",
              "      <td>16000US0644000</td>\n",
              "      <td>CA</td>\n",
              "      <td>6</td>\n",
              "      <td>3900794</td>\n",
              "    </tr>\n",
              "    <tr>\n",
              "      <th>7773</th>\n",
              "      <td>107774</td>\n",
              "      <td>Chicago</td>\n",
              "      <td>160</td>\n",
              "      <td>14000</td>\n",
              "      <td>16000US1714000</td>\n",
              "      <td>IL</td>\n",
              "      <td>17</td>\n",
              "      <td>2717534</td>\n",
              "    </tr>\n",
              "    <tr>\n",
              "      <th>26469</th>\n",
              "      <td>126470</td>\n",
              "      <td>Houston</td>\n",
              "      <td>160</td>\n",
              "      <td>35000</td>\n",
              "      <td>16000US4835000</td>\n",
              "      <td>TX</td>\n",
              "      <td>48</td>\n",
              "      <td>2217706</td>\n",
              "    </tr>\n",
              "    <tr>\n",
              "      <th>21819</th>\n",
              "      <td>121820</td>\n",
              "      <td>Philadelphia</td>\n",
              "      <td>160</td>\n",
              "      <td>60000</td>\n",
              "      <td>16000US4260000</td>\n",
              "      <td>PA</td>\n",
              "      <td>42</td>\n",
              "      <td>1555072</td>\n",
              "    </tr>\n",
              "    <tr>\n",
              "      <th>1679</th>\n",
              "      <td>101680</td>\n",
              "      <td>Phoenix</td>\n",
              "      <td>160</td>\n",
              "      <td>55000</td>\n",
              "      <td>16000US0455000</td>\n",
              "      <td>AZ</td>\n",
              "      <td>4</td>\n",
              "      <td>1514208</td>\n",
              "    </tr>\n",
              "    <tr>\n",
              "      <th>25433</th>\n",
              "      <td>125434</td>\n",
              "      <td>San Antonio</td>\n",
              "      <td>160</td>\n",
              "      <td>65000</td>\n",
              "      <td>16000US4865000</td>\n",
              "      <td>TX</td>\n",
              "      <td>48</td>\n",
              "      <td>1413881</td>\n",
              "    </tr>\n",
              "    <tr>\n",
              "      <th>2217</th>\n",
              "      <td>102218</td>\n",
              "      <td>San Diego</td>\n",
              "      <td>160</td>\n",
              "      <td>66000</td>\n",
              "      <td>16000US0666000</td>\n",
              "      <td>CA</td>\n",
              "      <td>6</td>\n",
              "      <td>1359791</td>\n",
              "    </tr>\n",
              "    <tr>\n",
              "      <th>26148</th>\n",
              "      <td>126149</td>\n",
              "      <td>Dallas</td>\n",
              "      <td>160</td>\n",
              "      <td>19000</td>\n",
              "      <td>16000US4819000</td>\n",
              "      <td>TX</td>\n",
              "      <td>48</td>\n",
              "      <td>1260688</td>\n",
              "    </tr>\n",
              "    <tr>\n",
              "      <th>2228</th>\n",
              "      <td>102229</td>\n",
              "      <td>San Jose</td>\n",
              "      <td>160</td>\n",
              "      <td>68000</td>\n",
              "      <td>16000US0668000</td>\n",
              "      <td>CA</td>\n",
              "      <td>6</td>\n",
              "      <td>1000860</td>\n",
              "    </tr>\n",
              "  </tbody>\n",
              "</table>\n",
              "</div>"
            ],
            "text/plain": [
              "       Table_Id          City  ...  State_Fips  Total_Population\n",
              "18940    118941      New York  ...          36           8426743\n",
              "3304     103305   Los Angeles  ...           6           3900794\n",
              "7773     107774       Chicago  ...          17           2717534\n",
              "26469    126470       Houston  ...          48           2217706\n",
              "21819    121820  Philadelphia  ...          42           1555072\n",
              "1679     101680       Phoenix  ...           4           1514208\n",
              "25433    125434   San Antonio  ...          48           1413881\n",
              "2217     102218     San Diego  ...           6           1359791\n",
              "26148    126149        Dallas  ...          48           1260688\n",
              "2228     102229      San Jose  ...           6           1000860\n",
              "\n",
              "[10 rows x 8 columns]"
            ]
          },
          "metadata": {},
          "execution_count": 49
        }
      ]
    },
    {
      "cell_type": "markdown",
      "metadata": {
        "id": "jDTNrlm0iPZl"
      },
      "source": [
        "9) Now sort the \"City Column\".  Which city is first in alphabetical order?"
      ]
    },
    {
      "cell_type": "code",
      "metadata": {
        "id": "Rv-_TcUkiM6E",
        "colab": {
          "base_uri": "https://localhost:8080/",
          "height": 419
        },
        "outputId": "1170795e-f874-45f3-d703-c614f2b89512"
      },
      "source": [
        "df.sort_values('City')"
      ],
      "execution_count": 27,
      "outputs": [
        {
          "output_type": "execute_result",
          "data": {
            "text/html": [
              "<div>\n",
              "<style scoped>\n",
              "    .dataframe tbody tr th:only-of-type {\n",
              "        vertical-align: middle;\n",
              "    }\n",
              "\n",
              "    .dataframe tbody tr th {\n",
              "        vertical-align: top;\n",
              "    }\n",
              "\n",
              "    .dataframe thead th {\n",
              "        text-align: right;\n",
              "    }\n",
              "</style>\n",
              "<table border=\"1\" class=\"dataframe\">\n",
              "  <thead>\n",
              "    <tr style=\"text-align: right;\">\n",
              "      <th></th>\n",
              "      <th>Table_Id</th>\n",
              "      <th>City</th>\n",
              "      <th>Summary_Level</th>\n",
              "      <th>Place_Fips</th>\n",
              "      <th>Geo_Id</th>\n",
              "      <th>State</th>\n",
              "      <th>State_Fips</th>\n",
              "      <th>Total_Population</th>\n",
              "    </tr>\n",
              "  </thead>\n",
              "  <tbody>\n",
              "    <tr>\n",
              "      <th>23039</th>\n",
              "      <td>123040</td>\n",
              "      <td>Aaronsburg CDP (Centre County)</td>\n",
              "      <td>160</td>\n",
              "      <td>100</td>\n",
              "      <td>16000US4200100</td>\n",
              "      <td>PA</td>\n",
              "      <td>42</td>\n",
              "      <td>523</td>\n",
              "    </tr>\n",
              "    <tr>\n",
              "      <th>23050</th>\n",
              "      <td>123051</td>\n",
              "      <td>Aaronsburg CDP (Washington County)</td>\n",
              "      <td>160</td>\n",
              "      <td>104</td>\n",
              "      <td>16000US4200104</td>\n",
              "      <td>PA</td>\n",
              "      <td>42</td>\n",
              "      <td>281</td>\n",
              "    </tr>\n",
              "    <tr>\n",
              "      <th>919</th>\n",
              "      <td>100920</td>\n",
              "      <td>Abanda</td>\n",
              "      <td>160</td>\n",
              "      <td>100</td>\n",
              "      <td>16000US0100100</td>\n",
              "      <td>AL</td>\n",
              "      <td>1</td>\n",
              "      <td>52</td>\n",
              "    </tr>\n",
              "    <tr>\n",
              "      <th>10769</th>\n",
              "      <td>110770</td>\n",
              "      <td>Abbeville</td>\n",
              "      <td>160</td>\n",
              "      <td>100</td>\n",
              "      <td>16000US2200100</td>\n",
              "      <td>LA</td>\n",
              "      <td>22</td>\n",
              "      <td>12381</td>\n",
              "    </tr>\n",
              "    <tr>\n",
              "      <th>5051</th>\n",
              "      <td>105052</td>\n",
              "      <td>Abbeville</td>\n",
              "      <td>160</td>\n",
              "      <td>184</td>\n",
              "      <td>16000US1300184</td>\n",
              "      <td>GA</td>\n",
              "      <td>13</td>\n",
              "      <td>2860</td>\n",
              "    </tr>\n",
              "    <tr>\n",
              "      <th>...</th>\n",
              "      <td>...</td>\n",
              "      <td>...</td>\n",
              "      <td>...</td>\n",
              "      <td>...</td>\n",
              "      <td>...</td>\n",
              "      <td>...</td>\n",
              "      <td>...</td>\n",
              "      <td>...</td>\n",
              "    </tr>\n",
              "    <tr>\n",
              "      <th>12381</th>\n",
              "      <td>112382</td>\n",
              "      <td>Zumbrota</td>\n",
              "      <td>160</td>\n",
              "      <td>72328</td>\n",
              "      <td>16000US2772328</td>\n",
              "      <td>MN</td>\n",
              "      <td>27</td>\n",
              "      <td>3325</td>\n",
              "    </tr>\n",
              "    <tr>\n",
              "      <th>17794</th>\n",
              "      <td>117795</td>\n",
              "      <td>Zuni Pueblo</td>\n",
              "      <td>160</td>\n",
              "      <td>86595</td>\n",
              "      <td>16000US3586595</td>\n",
              "      <td>NM</td>\n",
              "      <td>35</td>\n",
              "      <td>9494</td>\n",
              "    </tr>\n",
              "    <tr>\n",
              "      <th>9779</th>\n",
              "      <td>109780</td>\n",
              "      <td>Zurich</td>\n",
              "      <td>160</td>\n",
              "      <td>81025</td>\n",
              "      <td>16000US2081025</td>\n",
              "      <td>KS</td>\n",
              "      <td>20</td>\n",
              "      <td>104</td>\n",
              "    </tr>\n",
              "    <tr>\n",
              "      <th>5946</th>\n",
              "      <td>105947</td>\n",
              "      <td>Zwingle</td>\n",
              "      <td>160</td>\n",
              "      <td>87690</td>\n",
              "      <td>16000US1987690</td>\n",
              "      <td>IA</td>\n",
              "      <td>19</td>\n",
              "      <td>125</td>\n",
              "    </tr>\n",
              "    <tr>\n",
              "      <th>10768</th>\n",
              "      <td>110769</td>\n",
              "      <td>Zwolle</td>\n",
              "      <td>160</td>\n",
              "      <td>83685</td>\n",
              "      <td>16000US2283685</td>\n",
              "      <td>LA</td>\n",
              "      <td>22</td>\n",
              "      <td>2134</td>\n",
              "    </tr>\n",
              "  </tbody>\n",
              "</table>\n",
              "<p>29574 rows × 8 columns</p>\n",
              "</div>"
            ],
            "text/plain": [
              "       Table_Id  ... Total_Population\n",
              "23039    123040  ...              523\n",
              "23050    123051  ...              281\n",
              "919      100920  ...               52\n",
              "10769    110770  ...            12381\n",
              "5051     105052  ...             2860\n",
              "...         ...  ...              ...\n",
              "12381    112382  ...             3325\n",
              "17794    117795  ...             9494\n",
              "9779     109780  ...              104\n",
              "5946     105947  ...              125\n",
              "10768    110769  ...             2134\n",
              "\n",
              "[29574 rows x 8 columns]"
            ]
          },
          "metadata": {},
          "execution_count": 27
        }
      ]
    },
    {
      "cell_type": "markdown",
      "metadata": {
        "id": "ylbr3sjChcUf"
      },
      "source": [
        "10) A useful tool for an overview of numerical data types is .describe().  Note that it will peform calculations on any columns that are floats or integers.  (Do these calculations provide useful information for all of the columns shown? Explain)"
      ]
    },
    {
      "cell_type": "code",
      "metadata": {
        "id": "rfu8yHw5g7fy",
        "colab": {
          "base_uri": "https://localhost:8080/",
          "height": 297
        },
        "outputId": "a6295b09-4cf2-4b33-d3b4-22a03c81e758"
      },
      "source": [
        "df.describe()"
      ],
      "execution_count": 28,
      "outputs": [
        {
          "output_type": "execute_result",
          "data": {
            "text/html": [
              "<div>\n",
              "<style scoped>\n",
              "    .dataframe tbody tr th:only-of-type {\n",
              "        vertical-align: middle;\n",
              "    }\n",
              "\n",
              "    .dataframe tbody tr th {\n",
              "        vertical-align: top;\n",
              "    }\n",
              "\n",
              "    .dataframe thead th {\n",
              "        text-align: right;\n",
              "    }\n",
              "</style>\n",
              "<table border=\"1\" class=\"dataframe\">\n",
              "  <thead>\n",
              "    <tr style=\"text-align: right;\">\n",
              "      <th></th>\n",
              "      <th>Table_Id</th>\n",
              "      <th>Summary_Level</th>\n",
              "      <th>Place_Fips</th>\n",
              "      <th>State_Fips</th>\n",
              "      <th>Total_Population</th>\n",
              "    </tr>\n",
              "  </thead>\n",
              "  <tbody>\n",
              "    <tr>\n",
              "      <th>count</th>\n",
              "      <td>29574.000000</td>\n",
              "      <td>29574.0</td>\n",
              "      <td>29574.000000</td>\n",
              "      <td>29574.000000</td>\n",
              "      <td>2.957400e+04</td>\n",
              "    </tr>\n",
              "    <tr>\n",
              "      <th>mean</th>\n",
              "      <td>114787.500000</td>\n",
              "      <td>160.0</td>\n",
              "      <td>41765.392541</td>\n",
              "      <td>29.863224</td>\n",
              "      <td>8.043275e+03</td>\n",
              "    </tr>\n",
              "    <tr>\n",
              "      <th>std</th>\n",
              "      <td>8537.422767</td>\n",
              "      <td>0.0</td>\n",
              "      <td>24175.338828</td>\n",
              "      <td>15.769115</td>\n",
              "      <td>6.752158e+04</td>\n",
              "    </tr>\n",
              "    <tr>\n",
              "      <th>min</th>\n",
              "      <td>100001.000000</td>\n",
              "      <td>160.0</td>\n",
              "      <td>65.000000</td>\n",
              "      <td>1.000000</td>\n",
              "      <td>0.000000e+00</td>\n",
              "    </tr>\n",
              "    <tr>\n",
              "      <th>25%</th>\n",
              "      <td>107394.250000</td>\n",
              "      <td>160.0</td>\n",
              "      <td>21035.500000</td>\n",
              "      <td>17.000000</td>\n",
              "      <td>3.340000e+02</td>\n",
              "    </tr>\n",
              "    <tr>\n",
              "      <th>50%</th>\n",
              "      <td>114787.500000</td>\n",
              "      <td>160.0</td>\n",
              "      <td>41698.000000</td>\n",
              "      <td>30.000000</td>\n",
              "      <td>1.099500e+03</td>\n",
              "    </tr>\n",
              "    <tr>\n",
              "      <th>75%</th>\n",
              "      <td>122180.750000</td>\n",
              "      <td>160.0</td>\n",
              "      <td>62019.000000</td>\n",
              "      <td>42.000000</td>\n",
              "      <td>4.097750e+03</td>\n",
              "    </tr>\n",
              "    <tr>\n",
              "      <th>max</th>\n",
              "      <td>129574.000000</td>\n",
              "      <td>160.0</td>\n",
              "      <td>89760.000000</td>\n",
              "      <td>72.000000</td>\n",
              "      <td>8.426743e+06</td>\n",
              "    </tr>\n",
              "  </tbody>\n",
              "</table>\n",
              "</div>"
            ],
            "text/plain": [
              "            Table_Id  Summary_Level  ...    State_Fips  Total_Population\n",
              "count   29574.000000        29574.0  ...  29574.000000      2.957400e+04\n",
              "mean   114787.500000          160.0  ...     29.863224      8.043275e+03\n",
              "std      8537.422767            0.0  ...     15.769115      6.752158e+04\n",
              "min    100001.000000          160.0  ...      1.000000      0.000000e+00\n",
              "25%    107394.250000          160.0  ...     17.000000      3.340000e+02\n",
              "50%    114787.500000          160.0  ...     30.000000      1.099500e+03\n",
              "75%    122180.750000          160.0  ...     42.000000      4.097750e+03\n",
              "max    129574.000000          160.0  ...     72.000000      8.426743e+06\n",
              "\n",
              "[8 rows x 5 columns]"
            ]
          },
          "metadata": {},
          "execution_count": 28
        }
      ]
    },
    {
      "cell_type": "markdown",
      "metadata": {
        "id": "DwVHkhp-f3Xp"
      },
      "source": [
        "11) A very useful tool for categorical variables such as State is .value_counts().  It will tell you how many data points correspond to each category. Use this feature to quickly see how many entries there are for each state.  How many cities were included for PA? TX? What about your state?"
      ]
    },
    {
      "cell_type": "code",
      "metadata": {
        "id": "iNmHXi4lfGaA",
        "colab": {
          "base_uri": "https://localhost:8080/"
        },
        "outputId": "567c0b23-d86f-4e54-9ec4-661715739d57"
      },
      "source": [
        "df['State'].value_counts()"
      ],
      "execution_count": 50,
      "outputs": [
        {
          "output_type": "execute_result",
          "data": {
            "text/plain": [
              "PA    1762\n",
              "TX    1747\n",
              "CA    1522\n",
              "IL    1368\n",
              "OH    1215\n",
              "NY    1196\n",
              "MO    1033\n",
              "IA    1008\n",
              "FL     918\n",
              "MN     903\n",
              "WI     777\n",
              "OK     743\n",
              "NC     739\n",
              "MI     692\n",
              "IN     679\n",
              "KS     671\n",
              "WA     627\n",
              "GA     625\n",
              "VA     593\n",
              "AL     585\n",
              "NE     580\n",
              "NJ     545\n",
              "AR     541\n",
              "KY     539\n",
              "MD     518\n",
              "LA     474\n",
              "CO     458\n",
              "AZ     451\n",
              "NM     443\n",
              "TN     429\n",
              "WV     405\n",
              "ND     401\n",
              "SC     396\n",
              "SD     391\n",
              "OR     377\n",
              "MT     364\n",
              "MS     362\n",
              "AK     355\n",
              "UT     325\n",
              "PR     253\n",
              "MA     246\n",
              "ID     227\n",
              "WY     204\n",
              "HI     151\n",
              "CT     143\n",
              "NV     131\n",
              "ME     130\n",
              "VT     121\n",
              "NH      97\n",
              "DE      77\n",
              "RI      36\n",
              "DC       1\n",
              "Name: State, dtype: int64"
            ]
          },
          "metadata": {},
          "execution_count": 50
        }
      ]
    },
    {
      "cell_type": "markdown",
      "metadata": {
        "id": "2MQ-tw4PjES4"
      },
      "source": [
        "12) Now we want to just focus on the cities in Rhode Island (RI).  Assign a variable called RI that filters our dataset down to just the information from cities in Rhode Island."
      ]
    },
    {
      "cell_type": "code",
      "metadata": {
        "id": "4nEum1agjXPM",
        "colab": {
          "base_uri": "https://localhost:8080/",
          "height": 204
        },
        "outputId": "8f136491-890c-47bc-a59a-cc0b87daf87b"
      },
      "source": [
        "RI = df[df['State'] == 'RI']\n",
        "RI.head()"
      ],
      "execution_count": 56,
      "outputs": [
        {
          "output_type": "execute_result",
          "data": {
            "text/html": [
              "<div>\n",
              "<style scoped>\n",
              "    .dataframe tbody tr th:only-of-type {\n",
              "        vertical-align: middle;\n",
              "    }\n",
              "\n",
              "    .dataframe tbody tr th {\n",
              "        vertical-align: top;\n",
              "    }\n",
              "\n",
              "    .dataframe thead th {\n",
              "        text-align: right;\n",
              "    }\n",
              "</style>\n",
              "<table border=\"1\" class=\"dataframe\">\n",
              "  <thead>\n",
              "    <tr style=\"text-align: right;\">\n",
              "      <th></th>\n",
              "      <th>Table_Id</th>\n",
              "      <th>City</th>\n",
              "      <th>Summary_Level</th>\n",
              "      <th>Place_Fips</th>\n",
              "      <th>Geo_Id</th>\n",
              "      <th>State</th>\n",
              "      <th>State_Fips</th>\n",
              "      <th>Total_Population</th>\n",
              "    </tr>\n",
              "  </thead>\n",
              "  <tbody>\n",
              "    <tr>\n",
              "      <th>23523</th>\n",
              "      <td>123524</td>\n",
              "      <td>Ashaway</td>\n",
              "      <td>160</td>\n",
              "      <td>3520</td>\n",
              "      <td>16000US4403520</td>\n",
              "      <td>RI</td>\n",
              "      <td>44</td>\n",
              "      <td>1108</td>\n",
              "    </tr>\n",
              "    <tr>\n",
              "      <th>23524</th>\n",
              "      <td>123525</td>\n",
              "      <td>Bradford</td>\n",
              "      <td>160</td>\n",
              "      <td>8020</td>\n",
              "      <td>16000US4408020</td>\n",
              "      <td>RI</td>\n",
              "      <td>44</td>\n",
              "      <td>1158</td>\n",
              "    </tr>\n",
              "    <tr>\n",
              "      <th>23525</th>\n",
              "      <td>123526</td>\n",
              "      <td>Carolina</td>\n",
              "      <td>160</td>\n",
              "      <td>12340</td>\n",
              "      <td>16000US4412340</td>\n",
              "      <td>RI</td>\n",
              "      <td>44</td>\n",
              "      <td>787</td>\n",
              "    </tr>\n",
              "    <tr>\n",
              "      <th>23526</th>\n",
              "      <td>123527</td>\n",
              "      <td>Central Falls</td>\n",
              "      <td>160</td>\n",
              "      <td>14140</td>\n",
              "      <td>16000US4414140</td>\n",
              "      <td>RI</td>\n",
              "      <td>44</td>\n",
              "      <td>19378</td>\n",
              "    </tr>\n",
              "    <tr>\n",
              "      <th>23527</th>\n",
              "      <td>123528</td>\n",
              "      <td>Charlestown</td>\n",
              "      <td>160</td>\n",
              "      <td>14320</td>\n",
              "      <td>16000US4414320</td>\n",
              "      <td>RI</td>\n",
              "      <td>44</td>\n",
              "      <td>1207</td>\n",
              "    </tr>\n",
              "  </tbody>\n",
              "</table>\n",
              "</div>"
            ],
            "text/plain": [
              "       Table_Id           City  ...  State_Fips  Total_Population\n",
              "23523    123524        Ashaway  ...          44              1108\n",
              "23524    123525       Bradford  ...          44              1158\n",
              "23525    123526       Carolina  ...          44               787\n",
              "23526    123527  Central Falls  ...          44             19378\n",
              "23527    123528    Charlestown  ...          44              1207\n",
              "\n",
              "[5 rows x 8 columns]"
            ]
          },
          "metadata": {},
          "execution_count": 56
        }
      ]
    },
    {
      "cell_type": "code",
      "metadata": {
        "id": "SdA9rZddlmJf"
      },
      "source": [
        ""
      ],
      "execution_count": null,
      "outputs": []
    },
    {
      "cell_type": "markdown",
      "metadata": {
        "id": "EAMkLbs4perz"
      },
      "source": [
        "13) Next, create a dataset called \"Carolinas\" that includes both North Carolina (NC) and South Carolina (). How many cities does this include?"
      ]
    },
    {
      "cell_type": "code",
      "metadata": {
        "id": "QHOCi9j4pccH",
        "colab": {
          "base_uri": "https://localhost:8080/"
        },
        "outputId": "a6bdc808-76c1-4137-85eb-6c72998d5c7a"
      },
      "source": [
        "Carolinas = df[(df.State == 'NC') | (df.State == 'SC')]\n",
        "len(Carolinas)"
      ],
      "execution_count": 58,
      "outputs": [
        {
          "output_type": "execute_result",
          "data": {
            "text/plain": [
              "1135"
            ]
          },
          "metadata": {},
          "execution_count": 58
        }
      ]
    },
    {
      "cell_type": "markdown",
      "metadata": {
        "id": "0H8gfx3QqfIZ"
      },
      "source": [
        "14) Create a dataframe called Big_NY that includes information for cities in NY that are greater than 100,000 total population.  How many cities are included?"
      ]
    },
    {
      "cell_type": "code",
      "metadata": {
        "id": "CGN6r5fPqex9",
        "colab": {
          "base_uri": "https://localhost:8080/"
        },
        "outputId": "be83629d-37e2-4426-cd62-4e093a165fd6"
      },
      "source": [
        "Big_NY = df[(df.State == 'NY') & (df.Total_Population > 100000)]\n",
        "len(Big_NY)"
      ],
      "execution_count": 55,
      "outputs": [
        {
          "output_type": "execute_result",
          "data": {
            "text/plain": [
              "5"
            ]
          },
          "metadata": {},
          "execution_count": 55
        }
      ]
    },
    {
      "cell_type": "markdown",
      "metadata": {
        "id": "uUCQ6YMtBhkT"
      },
      "source": [
        "15) Find the average population of cities in each state."
      ]
    },
    {
      "cell_type": "code",
      "metadata": {
        "id": "OuJjknVwBpGK",
        "colab": {
          "base_uri": "https://localhost:8080/"
        },
        "outputId": "cc7df3d2-4b02-4410-f9b4-85d9856f1cad"
      },
      "source": [
        "# I'm trying to find the average population by state\n",
        "df.groupby('State')['Total_Population'].mean()"
      ],
      "execution_count": 57,
      "outputs": [
        {
          "output_type": "execute_result",
          "data": {
            "text/plain": [
              "State\n",
              "AK      2008.163380\n",
              "AL      5414.818803\n",
              "AR      3705.785582\n",
              "AZ     13661.392461\n",
              "CA     23889.193167\n",
              "CO      9901.165939\n",
              "CT     15357.566434\n",
              "DC    647484.000000\n",
              "DE      5245.870130\n",
              "FL     16374.882353\n",
              "GA      7665.374400\n",
              "HI      8970.788079\n",
              "IA      2468.273810\n",
              "ID      5037.264317\n",
              "IL      8281.089912\n",
              "IN      6675.684831\n",
              "KS      3609.050671\n",
              "KY      4782.081633\n",
              "LA      6432.909283\n",
              "MA     19201.739837\n",
              "MD      9459.480695\n",
              "ME      4766.107692\n",
              "MI      7983.783237\n",
              "MN      4963.775194\n",
              "MO      4110.100678\n",
              "MS      4558.215470\n",
              "MT      1938.464286\n",
              "NC      7962.017591\n",
              "ND      1425.805486\n",
              "NE      2543.736207\n",
              "NH      6470.701031\n",
              "NJ      9825.372477\n",
              "NM      3920.808126\n",
              "NV     20201.038168\n",
              "NY     13374.439799\n",
              "OH      6709.440329\n",
              "OK      4051.701211\n",
              "OR      8322.148541\n",
              "PA      4026.451759\n",
              "PR      8029.193676\n",
              "RI     18050.666667\n",
              "SC      5646.414141\n",
              "SD      1650.322251\n",
              "TN      9495.170163\n",
              "TX     11936.333143\n",
              "UT      8559.236923\n",
              "VA      9530.084317\n",
              "VT      2004.933884\n",
              "WA      9231.826156\n",
              "WI      5419.214929\n",
              "WV      1996.864198\n",
              "WY      2224.318627\n",
              "Name: Total_Population, dtype: float64"
            ]
          },
          "metadata": {},
          "execution_count": 57
        }
      ]
    },
    {
      "cell_type": "markdown",
      "metadata": {
        "id": "dAEbEhykrxfa"
      },
      "source": [
        "Keep exploring and practicing asking questions about the data and finding answers through your code! Data scientists have to answer questions, but often have to ask them first!  Think of at least 5 questions that will give you practice with your new data frame skills and answer them!"
      ]
    },
    {
      "cell_type": "markdown",
      "metadata": {
        "id": "aMst2jgYtXLW"
      },
      "source": [
        "Question 1:"
      ]
    },
    {
      "cell_type": "code",
      "metadata": {
        "id": "ZNobb2kKttB4"
      },
      "source": [
        ""
      ],
      "execution_count": null,
      "outputs": []
    },
    {
      "cell_type": "markdown",
      "metadata": {
        "id": "EU5awKpgtt4j"
      },
      "source": [
        "Question 2: "
      ]
    },
    {
      "cell_type": "code",
      "metadata": {
        "id": "QQGo_wPwtwW2"
      },
      "source": [
        ""
      ],
      "execution_count": null,
      "outputs": []
    },
    {
      "cell_type": "markdown",
      "metadata": {
        "id": "8k784yPrtw4V"
      },
      "source": [
        "Question 3: "
      ]
    },
    {
      "cell_type": "code",
      "metadata": {
        "id": "1B54TLMQtzxu"
      },
      "source": [
        ""
      ],
      "execution_count": null,
      "outputs": []
    },
    {
      "cell_type": "markdown",
      "metadata": {
        "id": "k4WsgCHQt0Jr"
      },
      "source": [
        "Question 4: "
      ]
    },
    {
      "cell_type": "code",
      "metadata": {
        "id": "R_bsSOSst3za"
      },
      "source": [
        ""
      ],
      "execution_count": null,
      "outputs": []
    },
    {
      "cell_type": "markdown",
      "metadata": {
        "id": "r0XoQ780t4Th"
      },
      "source": [
        "Question 5:"
      ]
    },
    {
      "cell_type": "code",
      "metadata": {
        "id": "ElCnW5i2t5hF"
      },
      "source": [
        ""
      ],
      "execution_count": null,
      "outputs": []
    }
  ]
}