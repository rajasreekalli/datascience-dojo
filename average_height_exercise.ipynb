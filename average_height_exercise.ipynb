{
  "nbformat": 4,
  "nbformat_minor": 0,
  "metadata": {
    "colab": {
      "name": "average height exercise ",
      "provenance": [],
      "mount_file_id": "1Wl9c_9xiQXoEkV8dYd0c-uFp1I3Jfkd1",
      "authorship_tag": "ABX9TyPiY2cfFApqJu7JeWl7e13G",
      "include_colab_link": true
    },
    "kernelspec": {
      "name": "python3",
      "display_name": "Python 3"
    },
    "language_info": {
      "name": "python"
    }
  },
  "cells": [
    {
      "cell_type": "markdown",
      "metadata": {
        "id": "view-in-github",
        "colab_type": "text"
      },
      "source": [
        "<a href=\"https://colab.research.google.com/github/rajasreekalli/datascience-dojo/blob/main/average_height_exercise.ipynb\" target=\"_parent\"><img src=\"https://colab.research.google.com/assets/colab-badge.svg\" alt=\"Open In Colab\"/></a>"
      ]
    },
    {
      "cell_type": "code",
      "metadata": {
        "id": "UwXFxYyYacDQ"
      },
      "source": [
        "import pandas as pd"
      ],
      "execution_count": 30,
      "outputs": []
    },
    {
      "cell_type": "code",
      "metadata": {
        "id": "seQtUvnVaq0k"
      },
      "source": [
        "filename = '/content/drive/MyDrive/athleteEventsNoPersonal.csv'    \n",
        "df = pd.read_csv(filename)"
      ],
      "execution_count": 31,
      "outputs": []
    },
    {
      "cell_type": "code",
      "metadata": {
        "colab": {
          "base_uri": "https://localhost:8080/"
        },
        "id": "03victVobUXP",
        "outputId": "aa1a6459-abee-4d73-8884-7b00e84d396f"
      },
      "source": [
        "# 1.a. How many rows?\n",
        "print(\"Total number of row:\", df.shape[0])\n",
        "# 1.b. How many columns?\n",
        "print(\"Total number of Columns:\", df.shape[1])"
      ],
      "execution_count": 32,
      "outputs": [
        {
          "output_type": "stream",
          "name": "stdout",
          "text": [
            "Total number of row: 40616\n",
            "Total number of Columns: 12\n"
          ]
        }
      ]
    },
    {
      "cell_type": "code",
      "metadata": {
        "colab": {
          "base_uri": "https://localhost:8080/"
        },
        "id": "wiLZmgX9bqBs",
        "outputId": "2ed372fa-7a66-45ee-8cf8-e32f150374c4"
      },
      "source": [
        "# 1.c. Which columns have missing values?\n",
        "df['Medal'].isna().sum()\n",
        "# Why do think there are there so many null values in the Medals column? Because they haven't won any medals."
      ],
      "execution_count": 33,
      "outputs": [
        {
          "output_type": "execute_result",
          "data": {
            "text/plain": [
              "34699"
            ]
          },
          "metadata": {},
          "execution_count": 33
        }
      ]
    },
    {
      "cell_type": "code",
      "metadata": {
        "colab": {
          "base_uri": "https://localhost:8080/"
        },
        "id": "XbcPjZoLIPKb",
        "outputId": "3ca91391-1307-4c4b-b694-c22ebc892b7b"
      },
      "source": [
        "df.isna().sum()"
      ],
      "execution_count": 34,
      "outputs": [
        {
          "output_type": "execute_result",
          "data": {
            "text/plain": [
              "ID            0\n",
              "Age        1473\n",
              "Height     9001\n",
              "Team          0\n",
              "NOC           0\n",
              "Games         0\n",
              "Year          0\n",
              "Season        0\n",
              "City          0\n",
              "Sport         0\n",
              "Event         0\n",
              "Medal     34699\n",
              "dtype: int64"
            ]
          },
          "metadata": {},
          "execution_count": 34
        }
      ]
    },
    {
      "cell_type": "code",
      "metadata": {
        "colab": {
          "base_uri": "https://localhost:8080/"
        },
        "id": "ZS8T7D-fcl4M",
        "outputId": "4608b0c3-eb1d-4068-8fcd-82427d11fa0a"
      },
      "source": [
        "# 1.d. How many entries correspond to the city of London?\n",
        "df['City'].value_counts().London"
      ],
      "execution_count": 35,
      "outputs": [
        {
          "output_type": "execute_result",
          "data": {
            "text/plain": [
              "3370"
            ]
          },
          "metadata": {},
          "execution_count": 35
        }
      ]
    },
    {
      "cell_type": "code",
      "metadata": {
        "id": "CfL4ommbdYRG",
        "colab": {
          "base_uri": "https://localhost:8080/"
        },
        "outputId": "59c6f7e3-dce7-4523-b6bf-1ddce2583a65"
      },
      "source": [
        "# 1.e. What age is the youngest athlete in our sample data?  Hint: use min()\n",
        "df['Age'].min()"
      ],
      "execution_count": 36,
      "outputs": [
        {
          "output_type": "execute_result",
          "data": {
            "text/plain": [
              "11.0"
            ]
          },
          "metadata": {},
          "execution_count": 36
        }
      ]
    },
    {
      "cell_type": "code",
      "metadata": {
        "id": "Z1NPNe2UBW8B",
        "colab": {
          "base_uri": "https://localhost:8080/",
          "height": 235
        },
        "outputId": "f7dbf5d0-e687-4ee6-96fb-ee43ec5aa04c"
      },
      "source": [
        "# 2.a. How many athletes who participated in the Sport \"Tug-Of-War\" were from Team \"Sweden\" in our sample dataset?\n",
        "filt = (df['Team'] == 'Sweden') & (df['Sport'] == 'Tug-Of-War')\n",
        "df[filt]"
      ],
      "execution_count": 37,
      "outputs": [
        {
          "output_type": "execute_result",
          "data": {
            "text/html": [
              "<div>\n",
              "<style scoped>\n",
              "    .dataframe tbody tr th:only-of-type {\n",
              "        vertical-align: middle;\n",
              "    }\n",
              "\n",
              "    .dataframe tbody tr th {\n",
              "        vertical-align: top;\n",
              "    }\n",
              "\n",
              "    .dataframe thead th {\n",
              "        text-align: right;\n",
              "    }\n",
              "</style>\n",
              "<table border=\"1\" class=\"dataframe\">\n",
              "  <thead>\n",
              "    <tr style=\"text-align: right;\">\n",
              "      <th></th>\n",
              "      <th>ID</th>\n",
              "      <th>Age</th>\n",
              "      <th>Height</th>\n",
              "      <th>Team</th>\n",
              "      <th>NOC</th>\n",
              "      <th>Games</th>\n",
              "      <th>Year</th>\n",
              "      <th>Season</th>\n",
              "      <th>City</th>\n",
              "      <th>Sport</th>\n",
              "      <th>Event</th>\n",
              "      <th>Medal</th>\n",
              "    </tr>\n",
              "  </thead>\n",
              "  <tbody>\n",
              "    <tr>\n",
              "      <th>10023</th>\n",
              "      <td>34205</td>\n",
              "      <td>22.0</td>\n",
              "      <td>NaN</td>\n",
              "      <td>Sweden</td>\n",
              "      <td>SWE</td>\n",
              "      <td>1908 Summer</td>\n",
              "      <td>1908</td>\n",
              "      <td>Summer</td>\n",
              "      <td>London</td>\n",
              "      <td>Tug-Of-War</td>\n",
              "      <td>Tug-Of-War Men's Tug-Of-War</td>\n",
              "      <td>NaN</td>\n",
              "    </tr>\n",
              "    <tr>\n",
              "      <th>12681</th>\n",
              "      <td>43105</td>\n",
              "      <td>23.0</td>\n",
              "      <td>NaN</td>\n",
              "      <td>Sweden</td>\n",
              "      <td>SWE</td>\n",
              "      <td>1906 Summer</td>\n",
              "      <td>1906</td>\n",
              "      <td>Summer</td>\n",
              "      <td>Athina</td>\n",
              "      <td>Tug-Of-War</td>\n",
              "      <td>Tug-Of-War Men's Tug-Of-War</td>\n",
              "      <td>Bronze</td>\n",
              "    </tr>\n",
              "    <tr>\n",
              "      <th>13015</th>\n",
              "      <td>44087</td>\n",
              "      <td>29.0</td>\n",
              "      <td>182.0</td>\n",
              "      <td>Sweden</td>\n",
              "      <td>SWE</td>\n",
              "      <td>1906 Summer</td>\n",
              "      <td>1906</td>\n",
              "      <td>Summer</td>\n",
              "      <td>Athina</td>\n",
              "      <td>Tug-Of-War</td>\n",
              "      <td>Tug-Of-War Men's Tug-Of-War</td>\n",
              "      <td>Bronze</td>\n",
              "    </tr>\n",
              "    <tr>\n",
              "      <th>16250</th>\n",
              "      <td>55169</td>\n",
              "      <td>23.0</td>\n",
              "      <td>NaN</td>\n",
              "      <td>Sweden</td>\n",
              "      <td>SWE</td>\n",
              "      <td>1908 Summer</td>\n",
              "      <td>1908</td>\n",
              "      <td>Summer</td>\n",
              "      <td>London</td>\n",
              "      <td>Tug-Of-War</td>\n",
              "      <td>Tug-Of-War Men's Tug-Of-War</td>\n",
              "      <td>NaN</td>\n",
              "    </tr>\n",
              "    <tr>\n",
              "      <th>19048</th>\n",
              "      <td>64266</td>\n",
              "      <td>21.0</td>\n",
              "      <td>NaN</td>\n",
              "      <td>Sweden</td>\n",
              "      <td>SWE</td>\n",
              "      <td>1908 Summer</td>\n",
              "      <td>1908</td>\n",
              "      <td>Summer</td>\n",
              "      <td>London</td>\n",
              "      <td>Tug-Of-War</td>\n",
              "      <td>Tug-Of-War Men's Tug-Of-War</td>\n",
              "      <td>NaN</td>\n",
              "    </tr>\n",
              "    <tr>\n",
              "      <th>20550</th>\n",
              "      <td>68647</td>\n",
              "      <td>26.0</td>\n",
              "      <td>190.0</td>\n",
              "      <td>Sweden</td>\n",
              "      <td>SWE</td>\n",
              "      <td>1906 Summer</td>\n",
              "      <td>1906</td>\n",
              "      <td>Summer</td>\n",
              "      <td>Athina</td>\n",
              "      <td>Tug-Of-War</td>\n",
              "      <td>Tug-Of-War Men's Tug-Of-War</td>\n",
              "      <td>Bronze</td>\n",
              "    </tr>\n",
              "  </tbody>\n",
              "</table>\n",
              "</div>"
            ],
            "text/plain": [
              "          ID   Age  Height  ...       Sport                        Event   Medal\n",
              "10023  34205  22.0     NaN  ...  Tug-Of-War  Tug-Of-War Men's Tug-Of-War     NaN\n",
              "12681  43105  23.0     NaN  ...  Tug-Of-War  Tug-Of-War Men's Tug-Of-War  Bronze\n",
              "13015  44087  29.0   182.0  ...  Tug-Of-War  Tug-Of-War Men's Tug-Of-War  Bronze\n",
              "16250  55169  23.0     NaN  ...  Tug-Of-War  Tug-Of-War Men's Tug-Of-War     NaN\n",
              "19048  64266  21.0     NaN  ...  Tug-Of-War  Tug-Of-War Men's Tug-Of-War     NaN\n",
              "20550  68647  26.0   190.0  ...  Tug-Of-War  Tug-Of-War Men's Tug-Of-War  Bronze\n",
              "\n",
              "[6 rows x 12 columns]"
            ]
          },
          "metadata": {},
          "execution_count": 37
        }
      ]
    },
    {
      "cell_type": "code",
      "metadata": {
        "colab": {
          "base_uri": "https://localhost:8080/"
        },
        "id": "vaDRDs5vrN2m",
        "outputId": "b9bdbde9-aeaf-4fdb-be69-47cdd1c7c41b"
      },
      "source": [
        "# 2.b. How many Gold medals were awarded to athletes who were over 40 years old?\n",
        "athletes_over_40 = (df['Age'] > 40) & (df['Medal'] == 'Gold')\n",
        "df = df.loc[athletes_over_40,:]\n",
        "df['Medal'].value_counts(dropna = False)"
      ],
      "execution_count": 38,
      "outputs": [
        {
          "output_type": "execute_result",
          "data": {
            "text/plain": [
              "Gold    66\n",
              "Name: Medal, dtype: int64"
            ]
          },
          "metadata": {},
          "execution_count": 38
        }
      ]
    },
    {
      "cell_type": "code",
      "metadata": {
        "colab": {
          "base_uri": "https://localhost:8080/"
        },
        "id": "QgMSzT9oFTOT",
        "outputId": "2844f1fe-e912-4456-b99e-b8f9631264b5"
      },
      "source": [
        "# 3.Determine the average height of: \n",
        "# a.All rows included.\n",
        "df['Height'].mean(axis=0)"
      ],
      "execution_count": 39,
      "outputs": [
        {
          "output_type": "execute_result",
          "data": {
            "text/plain": [
              "173.3125"
            ]
          },
          "metadata": {},
          "execution_count": 39
        }
      ]
    },
    {
      "cell_type": "code",
      "metadata": {
        "id": "m87wfdysGMH_",
        "colab": {
          "base_uri": "https://localhost:8080/"
        },
        "outputId": "b15b7e99-6b29-4be0-90b2-a56a0bacaa29"
      },
      "source": [
        " # 3. b. All rows included, but grouped by Event\n",
        "df.groupby(['Event','Height'])['Height'].mean()"
      ],
      "execution_count": 40,
      "outputs": [
        {
          "output_type": "execute_result",
          "data": {
            "text/plain": [
              "Event                                            Height\n",
              "Archery Women's Individual                       167.0     167.0\n",
              "Equestrianism Men's Three-Day Event, Team        175.0     175.0\n",
              "Equestrianism Mixed Jumping, Team                164.0     164.0\n",
              "                                                 175.0     175.0\n",
              "Equestrianism Mixed Three-Day Event, Individual  175.0     175.0\n",
              "Equestrianism Mixed Three-Day Event, Team        175.0     175.0\n",
              "                                                 181.0     181.0\n",
              "Fencing Men's Sabre, Team                        179.0     179.0\n",
              "Rowing Men's Coxed Eights                        170.0     170.0\n",
              "Sailing Mixed 10 metres                          180.0     180.0\n",
              "Sailing Mixed 12 metres                          163.0     163.0\n",
              "                                                 178.0     178.0\n",
              "Sailing Mixed Three Person Keelboat              180.0     180.0\n",
              "Shooting Men's Rapid-Fire Pistol, 25 metres      164.0     164.0\n",
              "                                                 168.0     168.0\n",
              "Name: Height, dtype: float64"
            ]
          },
          "metadata": {},
          "execution_count": 40
        }
      ]
    },
    {
      "cell_type": "code",
      "metadata": {
        "colab": {
          "base_uri": "https://localhost:8080/"
        },
        "id": "8HMB1uo1GQ-q",
        "outputId": "79b39577-037a-4e5d-dd65-8973de9dbd74"
      },
      "source": [
        "  # 3.c\n",
        "one_per_athlete = df.drop_duplicates(subset = 'ID', keep = 'first')\n",
        "df['Height'].mean(axis=0)\n"
      ],
      "execution_count": 41,
      "outputs": [
        {
          "output_type": "execute_result",
          "data": {
            "text/plain": [
              "173.3125"
            ]
          },
          "metadata": {},
          "execution_count": 41
        }
      ]
    },
    {
      "cell_type": "code",
      "metadata": {
        "id": "4rmd_3i4HJyb"
      },
      "source": [
        ""
      ],
      "execution_count": null,
      "outputs": []
    }
  ]
}