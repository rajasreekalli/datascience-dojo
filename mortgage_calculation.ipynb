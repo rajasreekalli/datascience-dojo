{
  "nbformat": 4,
  "nbformat_minor": 0,
  "metadata": {
    "colab": {
      "name": "mortgage calculation.ipynb",
      "provenance": [],
      "authorship_tag": "ABX9TyNS/uL2TfS2jaIXXsaaABUg",
      "include_colab_link": true
    },
    "kernelspec": {
      "name": "python3",
      "display_name": "Python 3"
    },
    "language_info": {
      "name": "python"
    }
  },
  "cells": [
    {
      "cell_type": "markdown",
      "metadata": {
        "id": "view-in-github",
        "colab_type": "text"
      },
      "source": [
        "<a href=\"https://colab.research.google.com/github/rajasreekalli/datascience-dojo/blob/main/mortgage_calculation.ipynb\" target=\"_parent\"><img src=\"https://colab.research.google.com/assets/colab-badge.svg\" alt=\"Open In Colab\"/></a>"
      ]
    },
    {
      "cell_type": "code",
      "metadata": {
        "id": "JokUqRy-CK21",
        "colab": {
          "base_uri": "https://localhost:8080/"
        },
        "outputId": "81922039-b399-4e7d-dac8-1cf64eaf6a05"
      },
      "source": [
        "p = 400000\n",
        "r = .03/12\n",
        "n = 360\n",
        "x = p * ((r * ((1 + r)*n))/(((1 + r)*n) - 1))\n",
        "print(x)"
      ],
      "execution_count": null,
      "outputs": [
        {
          "output_type": "stream",
          "name": "stdout",
          "text": [
            "1002.7785495971103\n"
          ]
        }
      ]
    },
    {
      "cell_type": "code",
      "metadata": {
        "colab": {
          "base_uri": "https://localhost:8080/"
        },
        "id": "vYmm3FC3C-ij",
        "outputId": "d9ff82e6-8b1c-4fc8-ada9-ed467b44416b"
      },
      "source": [
        "p = 400000\n",
        "r = .03/12\n",
        "n = 360\n",
        "x = p * ((r * ((1 + r)**n))/(((1 + r)**n) - 1))\n",
        "print(x)"
      ],
      "execution_count": 31,
      "outputs": [
        {
          "output_type": "stream",
          "name": "stdout",
          "text": [
            "1686.4161349178237\n"
          ]
        }
      ]
    },
    {
      "cell_type": "code",
      "metadata": {
        "id": "7YHIs378FyIl"
      },
      "source": [
        ""
      ],
      "execution_count": null,
      "outputs": []
    }
  ]
}