{
  "nbformat": 4,
  "nbformat_minor": 0,
  "metadata": {
    "colab": {
      "name": "Intro to Numpy and Array.ipynb",
      "provenance": [],
      "collapsed_sections": [],
      "authorship_tag": "ABX9TyOZ+5CYU8q9c2BRPA/FY/lN",
      "include_colab_link": true
    },
    "kernelspec": {
      "name": "python3",
      "display_name": "Python 3"
    },
    "language_info": {
      "name": "python"
    }
  },
  "cells": [
    {
      "cell_type": "markdown",
      "metadata": {
        "id": "view-in-github",
        "colab_type": "text"
      },
      "source": [
        "<a href=\"https://colab.research.google.com/github/rajasreekalli/datascience-dojo/blob/main/Intro_to_Numpy_and_Array.ipynb\" target=\"_parent\"><img src=\"https://colab.research.google.com/assets/colab-badge.svg\" alt=\"Open In Colab\"/></a>"
      ]
    },
    {
      "cell_type": "markdown",
      "metadata": {
        "id": "_S7JUMgx9aNi"
      },
      "source": [
        ""
      ]
    },
    {
      "cell_type": "code",
      "metadata": {
        "colab": {
          "base_uri": "https://localhost:8080/"
        },
        "id": "VMkrzE9L-Qo1",
        "outputId": "08b6801a-f674-47f0-f6e6-17c532fab907"
      },
      "source": [
        "quantity_sold = [17, 40, 1]\n",
        "quantity_sold = np.append(quantity_sold, [2, 3, 16, 5])\n",
        "print(quantity_sold)"
      ],
      "execution_count": null,
      "outputs": [
        {
          "output_type": "stream",
          "name": "stdout",
          "text": [
            "[17 40  1  2  3 16  5]\n"
          ]
        }
      ]
    },
    {
      "cell_type": "code",
      "metadata": {
        "colab": {
          "base_uri": "https://localhost:8080/"
        },
        "id": "LyrR7k-U_O_H",
        "outputId": "e58d422a-cf2b-4f9b-b3cb-0a693f4f9e62"
      },
      "source": [
        "quantity_sold[1] = 39\n",
        "print(quantity_sold)"
      ],
      "execution_count": null,
      "outputs": [
        {
          "output_type": "stream",
          "name": "stdout",
          "text": [
            "[17 39  1  2  3 16  5]\n"
          ]
        }
      ]
    },
    {
      "cell_type": "code",
      "metadata": {
        "colab": {
          "base_uri": "https://localhost:8080/"
        },
        "id": "9yO5iWk2BRU2",
        "outputId": "44e17aff-9306-4628-f76f-007866895ed8"
      },
      "source": [
        "price = [2, 1, 10, 7, 4.50, 3, 4]#brownie, cookie, cake, pie, fudge, cup cakes, bannana bread\n",
        "type(price)"
      ],
      "execution_count": null,
      "outputs": [
        {
          "output_type": "execute_result",
          "data": {
            "text/plain": [
              "list"
            ]
          },
          "metadata": {},
          "execution_count": 19
        }
      ]
    },
    {
      "cell_type": "code",
      "metadata": {
        "colab": {
          "base_uri": "https://localhost:8080/"
        },
        "id": "Mz8TVmbuCFc-",
        "outputId": "616b2dc7-0096-4824-e704-8022064d2d3b"
      },
      "source": [
        "quantity_sold = [17, 39, 1, 2, 3, 16, 5]#brownie, cookie, cake, pie, fudge, cup cakes, bannana bread\n",
        "type(quantity_sold)"
      ],
      "execution_count": null,
      "outputs": [
        {
          "output_type": "execute_result",
          "data": {
            "text/plain": [
              "list"
            ]
          },
          "metadata": {},
          "execution_count": 22
        }
      ]
    },
    {
      "cell_type": "code",
      "metadata": {
        "colab": {
          "base_uri": "https://localhost:8080/"
        },
        "id": "Mc50zonUCQRk",
        "outputId": "2749ba78-72f2-466a-f6ba-abd9d5a003d6"
      },
      "source": [
        "import numpy as np\n",
        "price_array = np.array(price)\n",
        "quantity_sold_array = np.array(quantity_sold)#brownie, cookie, cake, pie, fudge, cup cakes, bannana bread\n",
        "type(price_array)"
      ],
      "execution_count": null,
      "outputs": [
        {
          "output_type": "execute_result",
          "data": {
            "text/plain": [
              "numpy.ndarray"
            ]
          },
          "metadata": {},
          "execution_count": 23
        }
      ]
    },
    {
      "cell_type": "code",
      "metadata": {
        "colab": {
          "base_uri": "https://localhost:8080/"
        },
        "id": "0dDrnRwNC4lW",
        "outputId": "43fdc093-cdca-4db4-90dd-f431b02886fc"
      },
      "source": [
        "price_array * quantity_sold_array"
      ],
      "execution_count": null,
      "outputs": [
        {
          "output_type": "execute_result",
          "data": {
            "text/plain": [
              "array([34. , 39. , 10. , 14. , 13.5, 48. , 20. ])"
            ]
          },
          "metadata": {},
          "execution_count": 24
        }
      ]
    },
    {
      "cell_type": "code",
      "metadata": {
        "colab": {
          "base_uri": "https://localhost:8080/"
        },
        "id": "BZAgXnXUG_Al",
        "outputId": "a99857fb-26a0-4b39-ca9a-c25ccb3cb724"
      },
      "source": [
        "quantity_leftover = [0,0,2,1,6,0,2]#brownie, cookie, cake, pie, fudge, cup cakes, bannana bread\n",
        "print (quantity_leftover) #since it's a list and it's has built-in index which cannot be modified."
      ],
      "execution_count": null,
      "outputs": [
        {
          "output_type": "stream",
          "name": "stdout",
          "text": [
            "[0, 0, 2, 1, 6, 0, 2]\n"
          ]
        }
      ]
    },
    {
      "cell_type": "code",
      "metadata": {
        "colab": {
          "base_uri": "https://localhost:8080/"
        },
        "id": "y74_qAPtTnPq",
        "outputId": "c67eacf0-9b48-4fe7-8afb-f09b55f47b7f"
      },
      "source": [
        "half_price = price_array / 2\n",
        "clearence_sale = half_price * quantity_leftover\n",
        "print(clearence_sale)"
      ],
      "execution_count": null,
      "outputs": [
        {
          "output_type": "stream",
          "name": "stdout",
          "text": [
            "[ 0.   0.  10.   3.5 13.5  0.   4. ]\n"
          ]
        }
      ]
    },
    {
      "cell_type": "code",
      "metadata": {
        "colab": {
          "base_uri": "https://localhost:8080/"
        },
        "id": "TVBeI6ETUrbC",
        "outputId": "ad950b6e-a19f-422b-8242-d01848d4b085"
      },
      "source": [
        "full_price = price_array * quantity_sold_array\n",
        "total_price = full_price + clearence_sale\n",
        "print(sum(total_price))"
      ],
      "execution_count": 45,
      "outputs": [
        {
          "output_type": "stream",
          "name": "stdout",
          "text": [
            "209.5\n"
          ]
        }
      ]
    }
  ]
}