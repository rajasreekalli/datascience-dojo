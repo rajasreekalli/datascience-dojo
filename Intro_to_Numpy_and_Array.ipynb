{
  "nbformat": 4,
  "nbformat_minor": 0,
  "metadata": {
    "colab": {
      "name": "Intro to Numpy and Array.ipynb",
      "provenance": [],
      "collapsed_sections": [],
      "authorship_tag": "ABX9TyOWWDsd8dhxrzMhG8t8s9jw",
      "include_colab_link": true
    },
    "kernelspec": {
      "name": "python3",
      "display_name": "Python 3"
    },
    "language_info": {
      "name": "python"
    }
  },
  "cells": [
    {
      "cell_type": "markdown",
      "metadata": {
        "id": "view-in-github",
        "colab_type": "text"
      },
      "source": [
        "<a href=\"https://colab.research.google.com/github/rajasreekalli/datascience-dojo/blob/main/Intro_to_Numpy_and_Array.ipynb\" target=\"_parent\"><img src=\"https://colab.research.google.com/assets/colab-badge.svg\" alt=\"Open In Colab\"/></a>"
      ]
    },
    {
      "cell_type": "code",
      "metadata": {
        "id": "M2XhWCWWSF_p"
      },
      "source": [
        "import numpy as np"
      ],
      "execution_count": 171,
      "outputs": []
    },
    {
      "cell_type": "code",
      "metadata": {
        "colab": {
          "base_uri": "https://localhost:8080/"
        },
        "id": "VMkrzE9L-Qo1",
        "outputId": "731d3d26-8247-430c-bce5-1bd631d679fb"
      },
      "source": [
        "quantity_sold = [17, 40, 1]# brownie, cookies, cake\n",
        "quantity_sold = np.append(quantity_sold, [2, 3, 16, 5]) #Pie, fudge, cupcakes, bannana_bread\n",
        "print(quantity_sold)"
      ],
      "execution_count": 214,
      "outputs": [
        {
          "output_type": "stream",
          "name": "stdout",
          "text": [
            "[17 40  1  2  3 16  5]\n"
          ]
        }
      ]
    },
    {
      "cell_type": "code",
      "metadata": {
        "colab": {
          "base_uri": "https://localhost:8080/"
        },
        "id": "LyrR7k-U_O_H",
        "outputId": "db922d45-91f0-4cee-c516-7062573a4bad"
      },
      "source": [
        "quantity_sold[1] = 39\n",
        "print(quantity_sold)"
      ],
      "execution_count": 223,
      "outputs": [
        {
          "output_type": "stream",
          "name": "stdout",
          "text": [
            "[17 39  1  2  3 16  5]\n"
          ]
        }
      ]
    },
    {
      "cell_type": "code",
      "metadata": {
        "colab": {
          "base_uri": "https://localhost:8080/"
        },
        "id": "9yO5iWk2BRU2",
        "outputId": "b782abc3-19b4-4e64-aa13-cca976b1dc17"
      },
      "source": [
        "price = [2, 1, 12, 7, 4.50, 3, 4]#brownie, cookies, cake, pie, fudge, cup cakes, bannana_bread\n",
        "print(price)"
      ],
      "execution_count": 239,
      "outputs": [
        {
          "output_type": "stream",
          "name": "stdout",
          "text": [
            "[2, 1, 12, 7, 4.5, 3, 4]\n"
          ]
        }
      ]
    },
    {
      "cell_type": "code",
      "metadata": {
        "colab": {
          "base_uri": "https://localhost:8080/"
        },
        "id": "Mz8TVmbuCFc-",
        "outputId": "724a3fc8-fd75-4b24-c3d7-5b0001b16277"
      },
      "source": [
        "quantity_sold = [17, 39, 1, 2, 3, 16, 5]#brownie, cookie, cake, pie, fudge, cup cakes, bannana_bread\n",
        "type(quantity_sold)"
      ],
      "execution_count": 253,
      "outputs": [
        {
          "output_type": "execute_result",
          "data": {
            "text/plain": [
              "list"
            ]
          },
          "metadata": {},
          "execution_count": 253
        }
      ]
    },
    {
      "cell_type": "code",
      "metadata": {
        "colab": {
          "base_uri": "https://localhost:8080/"
        },
        "id": "Mc50zonUCQRk",
        "outputId": "85edc816-6c4b-415a-f7f6-fdbc23fb8ae0"
      },
      "source": [
        "price_array = np.array(price)\n",
        "quantity_sold_array = np.array(quantity_sold)#brownie, cookie, cake, pie, fudge, cup cakes, bannana_bread\n",
        "price_array"
      ],
      "execution_count": 254,
      "outputs": [
        {
          "output_type": "execute_result",
          "data": {
            "text/plain": [
              "array([ 2. ,  1. , 12. ,  7. ,  4.5,  3. ,  4. ])"
            ]
          },
          "metadata": {},
          "execution_count": 254
        }
      ]
    },
    {
      "cell_type": "code",
      "metadata": {
        "colab": {
          "base_uri": "https://localhost:8080/"
        },
        "id": "0dDrnRwNC4lW",
        "outputId": "c96f1de8-fad4-4c0b-8315-b4bd1687001f"
      },
      "source": [
        "price_array * quantity_sold_array"
      ],
      "execution_count": 255,
      "outputs": [
        {
          "output_type": "execute_result",
          "data": {
            "text/plain": [
              "array([34. , 39. , 12. , 14. , 13.5, 48. , 20. ])"
            ]
          },
          "metadata": {},
          "execution_count": 255
        }
      ]
    },
    {
      "cell_type": "code",
      "metadata": {
        "colab": {
          "base_uri": "https://localhost:8080/"
        },
        "id": "BZAgXnXUG_Al",
        "outputId": "55f1f156-2c76-47b6-abb1-420645d4829c"
      },
      "source": [
        "quantity_leftover = [0,0,2,1,6,0,2]#brownie, cookie, cake, pie, fudge, cup cakes, bannana bread\n",
        "print (quantity_leftover) #since it's a list and it's has built-in index which cannot be modified."
      ],
      "execution_count": 256,
      "outputs": [
        {
          "output_type": "stream",
          "name": "stdout",
          "text": [
            "[0, 0, 2, 1, 6, 0, 2]\n"
          ]
        }
      ]
    },
    {
      "cell_type": "code",
      "metadata": {
        "colab": {
          "base_uri": "https://localhost:8080/"
        },
        "id": "y74_qAPtTnPq",
        "outputId": "0d350557-7b27-4465-ca52-2c898a2e3275"
      },
      "source": [
        "half_price = price_array / 2\n",
        "clearence_sale = half_price * quantity_leftover\n",
        "print(clearence_sale)"
      ],
      "execution_count": 257,
      "outputs": [
        {
          "output_type": "stream",
          "name": "stdout",
          "text": [
            "[ 0.   0.  12.   3.5 13.5  0.   4. ]\n"
          ]
        }
      ]
    },
    {
      "cell_type": "code",
      "metadata": {
        "colab": {
          "base_uri": "https://localhost:8080/"
        },
        "id": "TVBeI6ETUrbC",
        "outputId": "5f517928-31a1-4ab5-d2db-ccec92cfd051"
      },
      "source": [
        "full_price = price_array * quantity_sold_array\n",
        "total_price = full_price + clearence_sale\n",
        "print(sum(total_price))"
      ],
      "execution_count": 258,
      "outputs": [
        {
          "output_type": "stream",
          "name": "stdout",
          "text": [
            "213.5\n"
          ]
        }
      ]
    }
  ]
}