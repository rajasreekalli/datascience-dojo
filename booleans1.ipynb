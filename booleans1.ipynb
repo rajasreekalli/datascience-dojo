{
  "nbformat": 4,
  "nbformat_minor": 0,
  "metadata": {
    "colab": {
      "name": "Untitled0.ipynb",
      "provenance": [],
      "collapsed_sections": [],
      "authorship_tag": "ABX9TyO1/1zcjoObhZRGl4S64i/I",
      "include_colab_link": true
    },
    "kernelspec": {
      "name": "python3",
      "display_name": "Python 3"
    },
    "language_info": {
      "name": "python"
    }
  },
  "cells": [
    {
      "cell_type": "markdown",
      "metadata": {
        "id": "view-in-github",
        "colab_type": "text"
      },
      "source": [
        "<a href=\"https://colab.research.google.com/github/rajasreekalli/datascience-dojo/blob/main/booleans1.ipynb\" target=\"_parent\"><img src=\"https://colab.research.google.com/assets/colab-badge.svg\" alt=\"Open In Colab\"/></a>"
      ]
    },
    {
      "cell_type": "code",
      "metadata": {
        "colab": {
          "base_uri": "https://localhost:8080/"
        },
        "id": "1kqi_DoGpIKg",
        "outputId": "ab186088-e382-4db1-b85b-4d1722e69b59"
      },
      "source": [
        "for num in range(20):\n",
        "  if num % 3 == 0:\n",
        "    print('fizz')\n",
        "  if num % 5 == 0:\n",
        "    print('buzz')\n",
        "  if num % 3 and num % 5 == 0:\n",
        "    print('fizzbuzz')\n"
      ],
      "execution_count": 1,
      "outputs": [
        {
          "output_type": "stream",
          "name": "stdout",
          "text": [
            "fizz\n",
            "buzz\n",
            "fizz\n",
            "buzz\n",
            "fizzbuzz\n",
            "fizz\n",
            "fizz\n",
            "buzz\n",
            "fizzbuzz\n",
            "fizz\n",
            "fizz\n",
            "buzz\n",
            "fizz\n"
          ]
        }
      ]
    },
    {
      "cell_type": "code",
      "metadata": {
        "id": "MpVMya4OqCBi"
      },
      "source": [
        ""
      ],
      "execution_count": null,
      "outputs": []
    }
  ]
}