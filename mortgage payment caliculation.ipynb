{
  "nbformat": 4,
  "nbformat_minor": 0,
  "metadata": {
    "colab": {
      "name": "Untitled2.ipynb",
      "provenance": [],
      "authorship_tag": "ABX9TyPeT+oQEKGL/eosl0RWwZ1U",
      "include_colab_link": true
    },
    "kernelspec": {
      "name": "python3",
      "display_name": "Python 3"
    },
    "language_info": {
      "name": "python"
    }
  },
  "cells": [
    {
      "cell_type": "markdown",
      "metadata": {
        "id": "view-in-github",
        "colab_type": "text"
      },
      "source": [
        "<a href=\"https://colab.research.google.com/github/rajasreekalli/datascience-dojo/blob/main/mortgage%20payment%20caliculation.ipynb\" target=\"_parent\"><img src=\"https://colab.research.google.com/assets/colab-badge.svg\" alt=\"Open In Colab\"/></a>"
      ]
    },
    {
      "cell_type": "code",
      "metadata": {
        "id": "JokUqRy-CK21",
        "colab": {
          "base_uri": "https://localhost:8080/"
        },
        "outputId": "81922039-b399-4e7d-dac8-1cf64eaf6a05"
      },
      "source": [
        "p = 400000\n",
        "r = .03/12\n",
        "n = 360\n",
        "x = p * ((r * ((1 + r)*n))/(((1 + r)*n) - 1))\n",
        "print(x)"
      ],
      "execution_count": 17,
      "outputs": [
        {
          "output_type": "stream",
          "name": "stdout",
          "text": [
            "1002.7785495971103\n"
          ]
        }
      ]
    },
    {
      "cell_type": "code",
      "metadata": {
        "colab": {
          "base_uri": "https://localhost:8080/"
        },
        "id": "vYmm3FC3C-ij",
        "outputId": "5f3d0f8e-8f51-4ba4-aeb6-e009bc251682"
      },
      "source": [
        "p = 400000\n",
        "r = .06/12\n",
        "n = 360\n",
        "x = p * ((r * ((1 + r)*n))/(((1 + r)*n) - 1))\n",
        "print(x)"
      ],
      "execution_count": 18,
      "outputs": [
        {
          "output_type": "stream",
          "name": "stdout",
          "text": [
            "2005.5432372505543\n"
          ]
        }
      ]
    },
    {
      "cell_type": "code",
      "metadata": {
        "id": "7YHIs378FyIl"
      },
      "source": [
        ""
      ],
      "execution_count": null,
      "outputs": []
    }
  ]
}