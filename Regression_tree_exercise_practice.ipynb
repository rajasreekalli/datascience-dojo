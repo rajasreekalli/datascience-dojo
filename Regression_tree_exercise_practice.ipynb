{
  "nbformat": 4,
  "nbformat_minor": 0,
  "metadata": {
    "colab": {
      "name": "Regression tree exercise practice.ipynb",
      "provenance": [],
      "mount_file_id": "1f_hpPOwwVnWZqEXesZx86M5wi0qI3Wpw",
      "authorship_tag": "ABX9TyMGfWdP9xa9rJ/IwsXzdwrq",
      "include_colab_link": true
    },
    "kernelspec": {
      "name": "python3",
      "display_name": "Python 3"
    },
    "language_info": {
      "name": "python"
    }
  },
  "cells": [
    {
      "cell_type": "markdown",
      "metadata": {
        "id": "view-in-github",
        "colab_type": "text"
      },
      "source": [
        "<a href=\"https://colab.research.google.com/github/rajasreekalli/datascience-dojo/blob/main/Regression_tree_exercise_practice.ipynb\" target=\"_parent\"><img src=\"https://colab.research.google.com/assets/colab-badge.svg\" alt=\"Open In Colab\"/></a>"
      ]
    },
    {
      "cell_type": "code",
      "metadata": {
        "id": "84zqyyad60Z8"
      },
      "source": [
        "import pandas as pd\n",
        "import numpy as np\n",
        "import matplotlib.pyplot as plt\n",
        "from sklearn.model_selection import train_test_split\n",
        "from sklearn.tree import DecisionTreeRegressor"
      ],
      "execution_count": 16,
      "outputs": []
    },
    {
      "cell_type": "code",
      "metadata": {
        "colab": {
          "base_uri": "https://localhost:8080/",
          "height": 419
        },
        "id": "fyl05QZx7fze",
        "outputId": "2e956bf5-a54f-48a5-c257-14c36c6eb179"
      },
      "source": [
        "df = pd.read_csv('/content/drive/MyDrive/Boston_Housing_from_Sklearn.csv')\n",
        "df"
      ],
      "execution_count": 17,
      "outputs": [
        {
          "output_type": "execute_result",
          "data": {
            "text/html": [
              "<div>\n",
              "<style scoped>\n",
              "    .dataframe tbody tr th:only-of-type {\n",
              "        vertical-align: middle;\n",
              "    }\n",
              "\n",
              "    .dataframe tbody tr th {\n",
              "        vertical-align: top;\n",
              "    }\n",
              "\n",
              "    .dataframe thead th {\n",
              "        text-align: right;\n",
              "    }\n",
              "</style>\n",
              "<table border=\"1\" class=\"dataframe\">\n",
              "  <thead>\n",
              "    <tr style=\"text-align: right;\">\n",
              "      <th></th>\n",
              "      <th>CRIM</th>\n",
              "      <th>NOX</th>\n",
              "      <th>RM</th>\n",
              "      <th>AGE</th>\n",
              "      <th>PTRATIO</th>\n",
              "      <th>LSTAT</th>\n",
              "      <th>PRICE</th>\n",
              "    </tr>\n",
              "  </thead>\n",
              "  <tbody>\n",
              "    <tr>\n",
              "      <th>0</th>\n",
              "      <td>0.00632</td>\n",
              "      <td>0.538</td>\n",
              "      <td>6.575</td>\n",
              "      <td>65.2</td>\n",
              "      <td>15.3</td>\n",
              "      <td>4.98</td>\n",
              "      <td>24.0</td>\n",
              "    </tr>\n",
              "    <tr>\n",
              "      <th>1</th>\n",
              "      <td>0.02731</td>\n",
              "      <td>0.469</td>\n",
              "      <td>6.421</td>\n",
              "      <td>78.9</td>\n",
              "      <td>17.8</td>\n",
              "      <td>9.14</td>\n",
              "      <td>21.6</td>\n",
              "    </tr>\n",
              "    <tr>\n",
              "      <th>2</th>\n",
              "      <td>0.02729</td>\n",
              "      <td>0.469</td>\n",
              "      <td>7.185</td>\n",
              "      <td>61.1</td>\n",
              "      <td>17.8</td>\n",
              "      <td>4.03</td>\n",
              "      <td>34.7</td>\n",
              "    </tr>\n",
              "    <tr>\n",
              "      <th>3</th>\n",
              "      <td>0.03237</td>\n",
              "      <td>0.458</td>\n",
              "      <td>6.998</td>\n",
              "      <td>45.8</td>\n",
              "      <td>18.7</td>\n",
              "      <td>2.94</td>\n",
              "      <td>33.4</td>\n",
              "    </tr>\n",
              "    <tr>\n",
              "      <th>4</th>\n",
              "      <td>0.06905</td>\n",
              "      <td>0.458</td>\n",
              "      <td>7.147</td>\n",
              "      <td>54.2</td>\n",
              "      <td>18.7</td>\n",
              "      <td>5.33</td>\n",
              "      <td>36.2</td>\n",
              "    </tr>\n",
              "    <tr>\n",
              "      <th>...</th>\n",
              "      <td>...</td>\n",
              "      <td>...</td>\n",
              "      <td>...</td>\n",
              "      <td>...</td>\n",
              "      <td>...</td>\n",
              "      <td>...</td>\n",
              "      <td>...</td>\n",
              "    </tr>\n",
              "    <tr>\n",
              "      <th>501</th>\n",
              "      <td>0.06263</td>\n",
              "      <td>0.573</td>\n",
              "      <td>6.593</td>\n",
              "      <td>69.1</td>\n",
              "      <td>21.0</td>\n",
              "      <td>9.67</td>\n",
              "      <td>22.4</td>\n",
              "    </tr>\n",
              "    <tr>\n",
              "      <th>502</th>\n",
              "      <td>0.04527</td>\n",
              "      <td>0.573</td>\n",
              "      <td>6.120</td>\n",
              "      <td>76.7</td>\n",
              "      <td>21.0</td>\n",
              "      <td>9.08</td>\n",
              "      <td>20.6</td>\n",
              "    </tr>\n",
              "    <tr>\n",
              "      <th>503</th>\n",
              "      <td>0.06076</td>\n",
              "      <td>0.573</td>\n",
              "      <td>6.976</td>\n",
              "      <td>91.0</td>\n",
              "      <td>21.0</td>\n",
              "      <td>5.64</td>\n",
              "      <td>23.9</td>\n",
              "    </tr>\n",
              "    <tr>\n",
              "      <th>504</th>\n",
              "      <td>0.10959</td>\n",
              "      <td>0.573</td>\n",
              "      <td>6.794</td>\n",
              "      <td>89.3</td>\n",
              "      <td>21.0</td>\n",
              "      <td>6.48</td>\n",
              "      <td>22.0</td>\n",
              "    </tr>\n",
              "    <tr>\n",
              "      <th>505</th>\n",
              "      <td>0.04741</td>\n",
              "      <td>0.573</td>\n",
              "      <td>6.030</td>\n",
              "      <td>80.8</td>\n",
              "      <td>21.0</td>\n",
              "      <td>7.88</td>\n",
              "      <td>11.9</td>\n",
              "    </tr>\n",
              "  </tbody>\n",
              "</table>\n",
              "<p>506 rows × 7 columns</p>\n",
              "</div>"
            ],
            "text/plain": [
              "        CRIM    NOX     RM   AGE  PTRATIO  LSTAT  PRICE\n",
              "0    0.00632  0.538  6.575  65.2     15.3   4.98   24.0\n",
              "1    0.02731  0.469  6.421  78.9     17.8   9.14   21.6\n",
              "2    0.02729  0.469  7.185  61.1     17.8   4.03   34.7\n",
              "3    0.03237  0.458  6.998  45.8     18.7   2.94   33.4\n",
              "4    0.06905  0.458  7.147  54.2     18.7   5.33   36.2\n",
              "..       ...    ...    ...   ...      ...    ...    ...\n",
              "501  0.06263  0.573  6.593  69.1     21.0   9.67   22.4\n",
              "502  0.04527  0.573  6.120  76.7     21.0   9.08   20.6\n",
              "503  0.06076  0.573  6.976  91.0     21.0   5.64   23.9\n",
              "504  0.10959  0.573  6.794  89.3     21.0   6.48   22.0\n",
              "505  0.04741  0.573  6.030  80.8     21.0   7.88   11.9\n",
              "\n",
              "[506 rows x 7 columns]"
            ]
          },
          "metadata": {},
          "execution_count": 17
        }
      ]
    },
    {
      "cell_type": "code",
      "metadata": {
        "id": "SQ7PSid971_U"
      },
      "source": [
        "#1) Run a regression tree model with default parameters (unlimited depth)\n",
        "X = df.drop(columns=['PRICE'])\n",
        "y = df['PRICE']"
      ],
      "execution_count": 18,
      "outputs": []
    },
    {
      "cell_type": "code",
      "metadata": {
        "id": "UNTzTEUL85B_"
      },
      "source": [
        "X_train, X_test, y_train, y_test = train_test_split(X, y, random_state=42)"
      ],
      "execution_count": 19,
      "outputs": []
    },
    {
      "cell_type": "code",
      "metadata": {
        "id": "NSiPwoaB88BZ"
      },
      "source": [
        "dec_tree = DecisionTreeRegressor(random_state = 42)"
      ],
      "execution_count": 20,
      "outputs": []
    },
    {
      "cell_type": "code",
      "metadata": {
        "colab": {
          "base_uri": "https://localhost:8080/"
        },
        "id": "CFVRY-_M8-5t",
        "outputId": "7368f57e-4613-4904-e3c9-d393b7b80771"
      },
      "source": [
        "dec_tree.fit(X_train, y_train)"
      ],
      "execution_count": 21,
      "outputs": [
        {
          "output_type": "execute_result",
          "data": {
            "text/plain": [
              "DecisionTreeRegressor(random_state=42)"
            ]
          },
          "metadata": {},
          "execution_count": 21
        }
      ]
    },
    {
      "cell_type": "code",
      "metadata": {
        "id": "2qAjlcMp9Hc2"
      },
      "source": [
        "train_preds = dec_tree.predict(X_train)\n",
        "test_preds = dec_tree.predict(X_test)"
      ],
      "execution_count": 22,
      "outputs": []
    },
    {
      "cell_type": "code",
      "metadata": {
        "colab": {
          "base_uri": "https://localhost:8080/"
        },
        "id": "5NWV2B5Q9T0v",
        "outputId": "4eb7597d-29ac-4540-b252-d470412af1ec"
      },
      "source": [
        "train_score = dec_tree.score(X_train, y_train)\n",
        "test_score = dec_tree.score(X_test, y_test)\n",
        "print(train_score)\n",
        "print(test_score)"
      ],
      "execution_count": 23,
      "outputs": [
        {
          "output_type": "stream",
          "name": "stdout",
          "text": [
            "1.0\n",
            "0.6193230918136841\n"
          ]
        }
      ]
    },
    {
      "cell_type": "code",
      "metadata": {
        "colab": {
          "base_uri": "https://localhost:8080/"
        },
        "id": "SRtmspYt9jeS",
        "outputId": "5fea2613-dd32-4938-df5d-1d75adce283a"
      },
      "source": [
        "dec_tree"
      ],
      "execution_count": 24,
      "outputs": [
        {
          "output_type": "execute_result",
          "data": {
            "text/plain": [
              "DecisionTreeRegressor(random_state=42)"
            ]
          },
          "metadata": {},
          "execution_count": 24
        }
      ]
    },
    {
      "cell_type": "code",
      "metadata": {
        "colab": {
          "base_uri": "https://localhost:8080/"
        },
        "id": "uz9JSWD09rJS",
        "outputId": "d347c71e-1055-4e7a-9607-2b68dedb3acb"
      },
      "source": [
        "# 2) Determine the depth of the default tree.\n",
        "dec_tree.get_depth()"
      ],
      "execution_count": 25,
      "outputs": [
        {
          "output_type": "execute_result",
          "data": {
            "text/plain": [
              "20"
            ]
          },
          "metadata": {},
          "execution_count": 25
        }
      ]
    },
    {
      "cell_type": "code",
      "metadata": {
        "colab": {
          "base_uri": "https://localhost:8080/"
        },
        "id": "jVPzyAde-A0y",
        "outputId": "0d1d94d5-fef2-4bf6-9520-09fd8c16acf8"
      },
      "source": [
        "dec_tree.get_n_leaves()"
      ],
      "execution_count": 26,
      "outputs": [
        {
          "output_type": "execute_result",
          "data": {
            "text/plain": [
              "360"
            ]
          },
          "metadata": {},
          "execution_count": 26
        }
      ]
    },
    {
      "cell_type": "code",
      "metadata": {
        "colab": {
          "base_uri": "https://localhost:8080/"
        },
        "id": "GvwExg_e-hN6",
        "outputId": "8ed043a0-5c04-45ae-beee-9f9aec5ac5a3"
      },
      "source": [
        "# 3) Try different values for max_depth and determine the optimal value based on the best (highest) r2 value. What is the optimal max_depth based on your trials?\n",
        "dec_tree_2 = DecisionTreeRegressor(max_depth = 2, random_state = 42)\n",
        "dec_tree_2.fit(X_train, y_train)\n",
        "train_2_score = dec_tree_2.score(X_train, y_train)\n",
        "test_2_score = dec_tree_2.score(X_test, y_test)\n",
        "print(train_2_score)\n",
        "print(test_2_score)"
      ],
      "execution_count": 27,
      "outputs": [
        {
          "output_type": "stream",
          "name": "stdout",
          "text": [
            "0.7089458256236383\n",
            "0.6370379660938668\n"
          ]
        }
      ]
    },
    {
      "cell_type": "code",
      "metadata": {
        "colab": {
          "base_uri": "https://localhost:8080/"
        },
        "id": "6YUjNbc-9DkZ",
        "outputId": "e92d5e2b-a69b-4aa1-eede-e2fc269d57a5"
      },
      "source": [
        "dec_tree_10 = DecisionTreeRegressor(max_depth = 10, random_state = 42)\n",
        "dec_tree_10.fit(X_train, y_train)\n",
        "train_10_score = dec_tree_10.score(X_train, y_train)\n",
        "test_10_score = dec_tree_10.score(X_test, y_test)\n",
        "print(train_10_score)\n",
        "print(test_10_score)"
      ],
      "execution_count": 28,
      "outputs": [
        {
          "output_type": "stream",
          "name": "stdout",
          "text": [
            "0.9867962386381032\n",
            "0.8460104271509634\n"
          ]
        }
      ]
    },
    {
      "cell_type": "code",
      "metadata": {
        "id": "odE7wNic9Y-C"
      },
      "source": [
        "# 4) What is the r2 of your final model on the training set and on the test set?\n",
        "max_depth_range = list(range(2, 20)) # will try every value between 2 and 20\n",
        "# List to store the score for each value of max_depth:\n",
        "r2 = []\n",
        "for depth in max_depth_range:\n",
        "    dec_tree = DecisionTreeRegressor(max_depth = depth, \n",
        "                             random_state = 42)\n",
        "    dec_tree.fit(X_train, y_train)\n",
        "    score = dec_tree.score(X_test, y_test)\n",
        "    r2.append(score)"
      ],
      "execution_count": 29,
      "outputs": []
    },
    {
      "cell_type": "code",
      "metadata": {
        "colab": {
          "base_uri": "https://localhost:8080/"
        },
        "id": "eVIW13e79ndy",
        "outputId": "6bd54cc6-1e91-4b44-a361-8b22aaf76904"
      },
      "source": [
        "# 4) What is the r2 of your final model on the training set and on the test set?\n",
        "dec_tree_12 = DecisionTreeRegressor(max_depth = 12, random_state = 42)\n",
        "dec_tree_12.fit(X_train, y_train)\n",
        "train_12_score = dec_tree_12.score(X_train, y_train)\n",
        "test_12_score = dec_tree_12.score(X_test, y_test)\n",
        "print(train_12_score)\n",
        "print(test_12_score)"
      ],
      "execution_count": 32,
      "outputs": [
        {
          "output_type": "stream",
          "name": "stdout",
          "text": [
            "0.9953582931891068\n",
            "0.8271023856015939\n"
          ]
        }
      ]
    },
    {
      "cell_type": "code",
      "metadata": {
        "id": "w_-UxbjG92ux"
      },
      "source": [
        ""
      ],
      "execution_count": null,
      "outputs": []
    }
  ]
}